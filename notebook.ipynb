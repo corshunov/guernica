{
 "cells": [
  {
   "cell_type": "code",
   "execution_count": 1,
   "id": "926e7206-4c28-4123-8217-fada44e297c8",
   "metadata": {},
   "outputs": [],
   "source": [
    "%load_ext autoreload\n",
    "%autoreload 2"
   ]
  },
  {
   "cell_type": "code",
   "execution_count": 2,
   "id": "a9e0c7a8-4067-4d18-ba4c-eb6f278401d4",
   "metadata": {},
   "outputs": [],
   "source": [
    "import os\n",
    "import sys\n",
    "import time"
   ]
  },
  {
   "cell_type": "code",
   "execution_count": 3,
   "id": "e1e461e8-9dbf-467c-acc5-104c28b3bade",
   "metadata": {},
   "outputs": [],
   "source": [
    "from IPython.display import HTML"
   ]
  },
  {
   "cell_type": "code",
   "execution_count": 4,
   "id": "5e0f3b6b-fe62-4a7b-949d-9b28c76ede73",
   "metadata": {},
   "outputs": [],
   "source": [
    "from brightness_controller import BrightnessController\n",
    "from controller import Controller\n",
    "from mpv import MPVController\n",
    "from radar import LD2450\n",
    "from radar_data_collector import RadarDataCollector\n",
    "from sliding_average import SlidingAverage"
   ]
  },
  {
   "cell_type": "code",
   "execution_count": 5,
   "id": "68ffcba6-cd2f-42cd-b92e-1ea321c5ebc7",
   "metadata": {},
   "outputs": [],
   "source": [
    "#uartdev = \"/dev/ttyS0\"\n",
    "uartdev = \"/dev/tty.usbserial-14410\""
   ]
  },
  {
   "cell_type": "markdown",
   "id": "f2efa05c-bc2a-44ca-be54-bac4725feaff",
   "metadata": {},
   "source": [
    "## Sliding average"
   ]
  },
  {
   "cell_type": "code",
   "execution_count": 6,
   "id": "29b56997-0229-4264-b068-580d5926e41e",
   "metadata": {},
   "outputs": [
    {
     "name": "stdout",
     "output_type": "stream",
     "text": [
      " -30 |  -30    0    0    0 |  -30    0    0    0 |  -7.50  -7.50 | yes\n",
      "  85 |  -30   85    0    0 |  -30   85    0    0 |  13.75  13.75 | yes\n",
      "-100 |  -30   85 -100    0 |  -30   85 -100    0 | -11.25 -11.25 | yes\n",
      "  60 |  -30   85 -100   60 |  -30   85 -100   60 |   3.75   3.75 | yes\n",
      " -41 |   85 -100   60  -41 |  -41   85 -100   60 |   1.00   1.00 | yes\n",
      "  -7 | -100   60  -41   -7 |  -41   -7 -100   60 | -22.00 -22.00 | yes\n",
      "  39 |   60  -41   -7   39 |  -41   -7   39   60 |  12.75  12.75 | yes\n",
      " -65 |  -41   -7   39  -65 |  -41   -7   39  -65 | -18.50 -18.50 | yes\n",
      "  92 |   -7   39  -65   92 |   92   -7   39  -65 |  14.75  14.75 | yes\n",
      " -73 |   39  -65   92  -73 |   92  -73   39  -65 |  -1.75  -1.75 | yes\n",
      "  50 |  -65   92  -73   50 |   92  -73   50  -65 |   1.00   1.00 | yes\n",
      " -76 |   92  -73   50  -76 |   92  -73   50  -76 |  -1.75  -1.75 | yes\n"
     ]
    }
   ],
   "source": [
    "SlidingAverage.show_check(n=12, ws=4)"
   ]
  },
  {
   "cell_type": "code",
   "execution_count": 7,
   "id": "ace0a233-ba76-4e42-86e8-7603a6ec32da",
   "metadata": {},
   "outputs": [
    {
     "name": "stdout",
     "output_type": "stream",
     "text": [
      "0 | [0, 0, 0, 0] | 0.00\n",
      "1 | [0, 1, 0, 0] | 0.25\n",
      "2 | [0, 1, 2, 0] | 0.75\n",
      "3 | [0, 1, 2, 3] | 1.50\n",
      "4 | [4, 1, 2, 3] | 2.50\n",
      "5 | [4, 5, 2, 3] | 3.50\n",
      "6 | [4, 5, 6, 3] | 4.50\n",
      "7 | [4, 5, 6, 7] | 5.50\n",
      "8 | [8, 5, 6, 7] | 6.50\n",
      "9 | [8, 9, 6, 7] | 7.50\n"
     ]
    }
   ],
   "source": [
    "avg = SlidingAverage(4)\n",
    "for i in range(10):\n",
    "    avg.add(i)\n",
    "    print(f\"{i} | {avg.vals} | {avg.avg:.2f}\")"
   ]
  },
  {
   "cell_type": "markdown",
   "id": "0889dec1-80e9-4479-b418-ca4df89239bc",
   "metadata": {},
   "source": [
    "## Radar LD2450"
   ]
  },
  {
   "cell_type": "code",
   "execution_count": 51,
   "id": "a2e31558-e52e-447e-a6d4-c0d0eb961411",
   "metadata": {
    "scrolled": true
   },
   "outputs": [],
   "source": [
    "r = LD2450(uartdev)"
   ]
  },
  {
   "cell_type": "code",
   "execution_count": 52,
   "id": "a3404092-8216-4381-a15b-8a3d01a0b4a5",
   "metadata": {},
   "outputs": [
    {
     "data": {
      "text/plain": [
       "'/dev/tty.usbserial-14410'"
      ]
     },
     "execution_count": 52,
     "metadata": {},
     "output_type": "execute_result"
    }
   ],
   "source": [
    "r.uartdev"
   ]
  },
  {
   "cell_type": "code",
   "execution_count": 157,
   "id": "1563c859-2c26-4b52-968c-0920e46d0599",
   "metadata": {},
   "outputs": [
    {
     "data": {
      "text/plain": [
       "False"
      ]
     },
     "execution_count": 157,
     "metadata": {},
     "output_type": "execute_result"
    }
   ],
   "source": [
    "r.verbose"
   ]
  },
  {
   "cell_type": "code",
   "execution_count": 177,
   "id": "8bdd1d71-8237-4b7b-95cd-5e05aecbf158",
   "metadata": {},
   "outputs": [
    {
     "name": "stdout",
     "output_type": "stream",
     "text": [
      "0\n",
      "0\n"
     ]
    }
   ],
   "source": [
    "print(r.in_waiting)\n",
    "r.clean()\n",
    "print(r.in_waiting)"
   ]
  },
  {
   "cell_type": "code",
   "execution_count": 159,
   "id": "e73f060a-985f-4a77-8cb4-a223ec813144",
   "metadata": {},
   "outputs": [
    {
     "name": "stdout",
     "output_type": "stream",
     "text": [
      "1.1) Failed to start configuration\n",
      "No header in response to cmd '00 FF'.\n"
     ]
    }
   ],
   "source": [
    "r.restart()"
   ]
  },
  {
   "cell_type": "code",
   "execution_count": 178,
   "id": "19420dba-b1f5-471a-bb78-9c98da5b2a44",
   "metadata": {},
   "outputs": [
    {
     "data": {
      "text/plain": [
       "'V2.04.23101915'"
      ]
     },
     "execution_count": 178,
     "metadata": {},
     "output_type": "execute_result"
    }
   ],
   "source": [
    "r.get_firmware_version()"
   ]
  },
  {
   "cell_type": "code",
   "execution_count": 179,
   "id": "0049a98a-daa4-49f9-b29e-87dd73f267ed",
   "metadata": {},
   "outputs": [
    {
     "data": {
      "text/plain": [
       "'F8 38 08 8E BB CB'"
      ]
     },
     "execution_count": 179,
     "metadata": {},
     "output_type": "execute_result"
    }
   ],
   "source": [
    "r.get_mac_address()"
   ]
  },
  {
   "cell_type": "code",
   "execution_count": 180,
   "id": "2c502da6-2785-4036-8dc2-5bb7a591c2d1",
   "metadata": {},
   "outputs": [
    {
     "data": {
      "text/plain": [
       "True"
      ]
     },
     "execution_count": 180,
     "metadata": {},
     "output_type": "execute_result"
    }
   ],
   "source": [
    "r.get_bluetooth_state()"
   ]
  },
  {
   "cell_type": "code",
   "execution_count": 181,
   "id": "da24acf0-08f8-4e11-86e1-14f3fd6a1d04",
   "metadata": {},
   "outputs": [
    {
     "data": {
      "text/plain": [
       "2"
      ]
     },
     "execution_count": 181,
     "metadata": {},
     "output_type": "execute_result"
    }
   ],
   "source": [
    "r.get_tracking_mode()"
   ]
  },
  {
   "cell_type": "code",
   "execution_count": 182,
   "id": "09647d4a-bdfb-4956-90a3-4a51fa6f9784",
   "metadata": {},
   "outputs": [
    {
     "data": {
      "text/plain": [
       "[0, 0, 0, 0, 0, 0, 0, 0, 0, 0, 0, 0, 0]"
      ]
     },
     "execution_count": 182,
     "metadata": {},
     "output_type": "execute_result"
    }
   ],
   "source": [
    "r.get_zone_filtering()"
   ]
  },
  {
   "cell_type": "code",
   "execution_count": 183,
   "id": "bfcc45a4-c23d-4e8b-8dd1-83046b377a97",
   "metadata": {},
   "outputs": [
    {
     "name": "stdout",
     "output_type": "stream",
     "text": [
      "UART device: /dev/tty.usbserial-14410\n",
      "Firmware version: V2.04.23101915\n",
      "Bluetooth: ON (MAC address: F8 38 08 8E BB CB)\n",
      "Multi tracking: ON\n",
      "Zone filtering: [0, 0, 0, 0, 0, 0, 0, 0, 0, 0, 0, 0, 0]\n"
     ]
    }
   ],
   "source": [
    "r.show_info()"
   ]
  },
  {
   "cell_type": "code",
   "execution_count": 184,
   "id": "e9b007d0-2959-4a3c-98e4-6a2d2cb2db50",
   "metadata": {},
   "outputs": [],
   "source": [
    "r.set_bluetooth_on(restart=True)\n",
    "r.set_multi_tracking()"
   ]
  },
  {
   "cell_type": "code",
   "execution_count": 185,
   "id": "9fb9bbba-fb63-477b-a6c6-3f3adc00c179",
   "metadata": {},
   "outputs": [
    {
     "name": "stdout",
     "output_type": "stream",
     "text": [
      "1.1) Failed to end configuration\n",
      "No header in response to cmd '00 FE'.\n",
      "1.2) Failed to end configuration\n",
      "No header in response to cmd '00 FE'.\n",
      "1.3) Failed to end configuration\n",
      "No header in response to cmd '00 FE'.\n",
      "1.4) Failed to end configuration\n",
      "No header in response to cmd '00 FE'.\n",
      "1) Failed to end configuration while executing cmd '00 C1'.\n",
      "UART device: /dev/tty.usbserial-14410\n",
      "Firmware version: V2.04.23101915\n",
      "Bluetooth: ON (MAC address: F8 38 08 8E BB CB)\n",
      "Multi tracking: ON\n",
      "Zone filtering: [0, 0, 0, 0, 0, 0, 0, 0, 0, 0, 0, 0, 0]\n"
     ]
    }
   ],
   "source": [
    "r.show_info()"
   ]
  },
  {
   "cell_type": "code",
   "execution_count": 186,
   "id": "306ff14a-d490-4709-a03f-afdee0e732e8",
   "metadata": {
    "scrolled": true
   },
   "outputs": [
    {
     "name": "stdout",
     "output_type": "stream",
     "text": [
      "0\n",
      "1\n",
      "2\n",
      "3\n",
      "4\n",
      "5\n",
      "6\n",
      "7\n",
      "8\n",
      "9\n",
      "10\n",
      "11\n",
      "12\n",
      "13\n",
      "14\n",
      "15\n",
      "16\n",
      "17\n",
      "18\n",
      "19\n",
      "20\n",
      "21\n",
      "22\n",
      "23\n",
      "24\n",
      "25\n",
      "26\n",
      "27\n",
      "28\n",
      "29\n",
      "30\n",
      "31\n",
      "32\n",
      "33\n",
      "34\n",
      "35\n",
      "36\n",
      "37\n",
      "38\n",
      "39\n",
      "40\n",
      "41\n",
      "42\n",
      "43\n",
      "44\n",
      "45\n",
      "46\n",
      "47\n",
      "48\n",
      "49\n",
      "50\n",
      "51\n",
      "52\n",
      "53\n",
      "54\n",
      "55\n",
      "56\n",
      "57\n",
      "1.1) Failed to start configuration\n",
      "No acknowledge in response to cmd '00 FF'.\n",
      "58\n",
      "59\n",
      "60\n",
      "61\n",
      "62\n",
      "63\n",
      "64\n",
      "65\n",
      "66\n",
      "67\n",
      "68\n",
      "69\n",
      "70\n",
      "71\n",
      "72\n",
      "73\n",
      "74\n",
      "75\n",
      "76\n",
      "77\n",
      "78\n",
      "79\n",
      "80\n",
      "81\n",
      "82\n",
      "83\n",
      "84\n",
      "85\n",
      "86\n",
      "87\n",
      "88\n",
      "89\n",
      "90\n",
      "91\n",
      "92\n",
      "93\n",
      "94\n",
      "95\n",
      "96\n",
      "97\n",
      "98\n",
      "99\n",
      "\n",
      "Firmware version: ['V2.04.23101915']\n",
      "MAC address: ['F8 38 08 8E BB CB']\n",
      "Tracking mode: [2]\n"
     ]
    }
   ],
   "source": [
    "r.test(100)"
   ]
  },
  {
   "cell_type": "code",
   "execution_count": 219,
   "id": "b1397877-7646-40b5-a698-4e23c4bdff08",
   "metadata": {},
   "outputs": [
    {
     "name": "stdout",
     "output_type": "stream",
     "text": [
      "939\n"
     ]
    }
   ],
   "source": [
    "print(r.in_waiting)"
   ]
  },
  {
   "cell_type": "code",
   "execution_count": 225,
   "id": "d5ab53a6-82e0-4412-be60-fcf044888a79",
   "metadata": {
    "scrolled": true
   },
   "outputs": [
    {
     "name": "stdout",
     "output_type": "stream",
     "text": [
      "930\n",
      " 1124  1307 |     0     0 |     0     0 | IN:   990 | sample:     1\n",
      " 1129  1308 |     0     0 |     0     0 | IN:   960 | sample:     2\n",
      " 1137  1307 |     0     0 |     0     0 | IN:   930 | sample:     3\n",
      " 1147  1305 |     0     0 |     0     0 | IN:   900 | sample:     4\n",
      " 1152  1303 |     0     0 |     0     0 | IN:  1003 | sample:     5\n",
      " 1155  1301 |     0     0 |     0     0 | IN:   973 | sample:     6\n",
      " 1158  1300 |     0     0 |     0     0 | IN:   943 | sample:     7\n",
      " 1162  1298 |     0     0 |     0     0 | IN:   913 | sample:     8\n",
      " 1168  1298 |     0     0 |     0     0 | IN:  1016 | sample:     9\n",
      " 1175  1298 |     0     0 |     0     0 | IN:   986 | sample:    10\n",
      " 1181  1299 |     0     0 |     0     0 | IN:   956 | sample:    11\n",
      " 1184  1299 |     0     0 |     0     0 | IN:   926 | sample:    12\n",
      " 1178  1305 |     0     0 |     0     0 | IN:   896 | sample:    13\n",
      " 1170  1312 |     0     0 |     0     0 | IN:   999 | sample:    14\n",
      " 1153  1318 |     0     0 |     0     0 | IN:   969 | sample:    15\n",
      " 1135  1323 |     0     0 |     0     0 | IN:   939 | sample:    16\n",
      " 1118  1328 |     0     0 |     0     0 | IN:   909 | sample:    17\n",
      " 1101  1333 |     0     0 |     0     0 | IN:  1012 | sample:    18\n",
      " 1085  1337 |     0     0 |     0     0 | IN:   982 | sample:    19\n",
      " 1070  1342 |     0     0 |     0     0 | IN:   952 | sample:    20\n",
      " 1055  1346 |     0     0 |     0     0 | IN:   922 | sample:    21\n",
      " 1045  1348 |     0     0 |     0     0 | IN:   892 | sample:    22\n",
      " 1038  1350 |     0     0 |     0     0 | IN:   995 | sample:    23\n",
      " 1031  1352 |     0     0 |     0     0 | IN:   965 | sample:    24\n",
      " 1025  1353 |     0     0 |     0     0 | IN:   935 | sample:    25\n",
      " 1018  1355 |     0     0 |     0     0 | IN:   905 | sample:    26\n",
      " 1012  1356 |     0     0 |     0     0 | IN:  1008 | sample:    27\n",
      " 1006  1358 |     0     0 |     0     0 | IN:   978 | sample:    28\n",
      " 1000  1359 |     0     0 |     0     0 | IN:   948 | sample:    29\n",
      "  995  1360 |     0     0 |     0     0 | IN:   918 | sample:    30\n",
      " 1004  1356 |     0     0 |     0     0 | IN:  1020 | sample:    31\n",
      " 1015  1355 |     0     0 |     0     0 | IN:   990 | sample:    32\n",
      " 1030  1353 |     0     0 |     0     0 | IN:   960 | sample:    33\n",
      " 1038  1350 |     0     0 |     0     0 | IN:   930 | sample:    34\n",
      " 1042  1347 |     0     0 |     0     0 | IN:   900 | sample:    35\n",
      " 1046  1344 |     0     0 |     0     0 | IN:  1000 | sample:    36\n",
      " 1050  1341 |     0     0 |     0     0 | IN:   970 | sample:    37\n",
      " 1054  1337 |     0     0 |     0     0 | IN:   940 | sample:    38\n",
      " 1058  1334 |     0     0 |     0     0 | IN:   910 | sample:    39\n",
      " 1062  1331 |     0     0 |     0     0 | IN:  1013 | sample:    40\n",
      " 1067  1330 |     0     0 |     0     0 | IN:   983 | sample:    41\n",
      " 1073  1329 |     0     0 |     0     0 | IN:   953 | sample:    42\n",
      " 1078  1328 |     0     0 |     0     0 | IN:   923 | sample:    43\n",
      " 1089  1325 |     0     0 |     0     0 | IN:   893 | sample:    44\n",
      " 1102  1320 |     0     0 |     0     0 | IN:   996 | sample:    45\n",
      " 1113  1316 |     0     0 |     0     0 | IN:   966 | sample:    46\n",
      " 1124  1310 |     0     0 |     0     0 | IN:   936 | sample:    47\n",
      " 1134  1303 |     0     0 |     0     0 | IN:   906 | sample:    48\n",
      " 1144  1297 |     0     0 |     0     0 | IN:  1009 | sample:    49\n",
      " 1148  1293 |     0     0 |     0     0 | IN:   979 | sample:    50\n",
      " 1150  1293 |     0     0 |     0     0 | IN:   949 | sample:    51\n"
     ]
    }
   ],
   "source": [
    "print(r.in_waiting)\n",
    "r.show_data(50)"
   ]
  },
  {
   "cell_type": "markdown",
   "id": "30da7ca2-bb5c-4d76-b53e-eac5e7dd2f1d",
   "metadata": {},
   "source": [
    "## Radar 2410C"
   ]
  },
  {
   "cell_type": "code",
   "execution_count": 226,
   "id": "5f64e376-2487-418e-a553-8cd1dcd0d370",
   "metadata": {},
   "outputs": [],
   "source": [
    "# ..."
   ]
  },
  {
   "cell_type": "markdown",
   "id": "1d623a83-03b4-4a0a-a82f-86faed07ab3d",
   "metadata": {},
   "source": [
    "## Radar 2461"
   ]
  },
  {
   "cell_type": "code",
   "execution_count": 227,
   "id": "bbb830c8-c4ad-4555-8ea7-9cfdbb3e4510",
   "metadata": {},
   "outputs": [],
   "source": [
    "# ..."
   ]
  },
  {
   "cell_type": "markdown",
   "id": "8ea3fc9a-610c-4bbd-a9c5-a2556c356637",
   "metadata": {},
   "source": [
    "## Radar data collector"
   ]
  },
  {
   "cell_type": "code",
   "execution_count": 228,
   "id": "bb260c5e-30d6-4699-aaa8-bf4bf307c0f3",
   "metadata": {},
   "outputs": [
    {
     "name": "stdout",
     "output_type": "stream",
     "text": [
      "Radar UP.\n"
     ]
    }
   ],
   "source": [
    "rdc = RadarDataCollector(uartdev)"
   ]
  },
  {
   "cell_type": "code",
   "execution_count": 229,
   "id": "ff4e35bf-c87c-46a8-8be5-8f2ee8c51dbb",
   "metadata": {},
   "outputs": [
    {
     "name": "stdout",
     "output_type": "stream",
     "text": [
      "1.1) Failed to start configuration\n",
      "No header in response to cmd '00 FF'.\n",
      "UART device: /dev/tty.usbserial-14410\n",
      "Firmware version: V2.04.23101915\n",
      "Bluetooth: ON (MAC address: F8 38 08 8E BB CB)\n",
      "Multi tracking: ON\n",
      "Zone filtering: [0, 0, 0, 0, 0, 0, 0, 0, 0, 0, 0, 0, 0]\n"
     ]
    }
   ],
   "source": [
    "rdc.radar.show_info()"
   ]
  },
  {
   "cell_type": "code",
   "execution_count": 230,
   "id": "87b8ec0b-3049-423c-9358-e772230af7ba",
   "metadata": {},
   "outputs": [
    {
     "data": {
      "text/plain": [
       "'/dev/tty.usbserial-14410'"
      ]
     },
     "execution_count": 230,
     "metadata": {},
     "output_type": "execute_result"
    }
   ],
   "source": [
    "rdc.uartdev"
   ]
  },
  {
   "cell_type": "code",
   "execution_count": 231,
   "id": "88edad11-af16-4a43-923e-46752b4a4054",
   "metadata": {},
   "outputs": [
    {
     "data": {
      "text/plain": [
       "True"
      ]
     },
     "execution_count": 231,
     "metadata": {},
     "output_type": "execute_result"
    }
   ],
   "source": [
    "rdc.default_bluetooth"
   ]
  },
  {
   "cell_type": "code",
   "execution_count": 232,
   "id": "d5f7eda5-4820-40ba-91be-0088dc6f093b",
   "metadata": {},
   "outputs": [
    {
     "data": {
      "text/plain": [
       "True"
      ]
     },
     "execution_count": 232,
     "metadata": {},
     "output_type": "execute_result"
    }
   ],
   "source": [
    "rdc.default_multi_tracking"
   ]
  },
  {
   "cell_type": "code",
   "execution_count": 233,
   "id": "d49bfda6-2df3-46cd-9269-843833940912",
   "metadata": {},
   "outputs": [
    {
     "data": {
      "text/plain": [
       "True"
      ]
     },
     "execution_count": 233,
     "metadata": {},
     "output_type": "execute_result"
    }
   ],
   "source": [
    "rdc.active"
   ]
  },
  {
   "cell_type": "code",
   "execution_count": 234,
   "id": "f3d956f3-a2a5-434a-850d-47e58a42bfd6",
   "metadata": {},
   "outputs": [
    {
     "data": {
      "text/plain": [
       "0"
      ]
     },
     "execution_count": 234,
     "metadata": {},
     "output_type": "execute_result"
    }
   ],
   "source": [
    "rdc.qsize"
   ]
  },
  {
   "cell_type": "code",
   "execution_count": 235,
   "id": "69b8c772-59b7-47d1-90e6-f64ed9ca905d",
   "metadata": {},
   "outputs": [
    {
     "data": {
      "text/plain": [
       "True"
      ]
     },
     "execution_count": 235,
     "metadata": {},
     "output_type": "execute_result"
    }
   ],
   "source": [
    "rdc.empty"
   ]
  },
  {
   "cell_type": "code",
   "execution_count": 236,
   "id": "afc1d515-0f90-4250-85bc-dbc9304d8b52",
   "metadata": {},
   "outputs": [],
   "source": [
    "rdc.start()"
   ]
  },
  {
   "cell_type": "code",
   "execution_count": 237,
   "id": "03422ef2-e121-408c-9ff4-3a3a284fc45f",
   "metadata": {},
   "outputs": [
    {
     "name": "stdout",
     "output_type": "stream",
     "text": [
      "113\n",
      "124\n",
      "135\n",
      "147\n",
      "158\n",
      "169\n",
      "180\n",
      "192\n",
      "203\n",
      "214\n"
     ]
    }
   ],
   "source": [
    "for _ in range(10):\n",
    "    print(rdc.qsize)\n",
    "    time.sleep(1)"
   ]
  },
  {
   "cell_type": "code",
   "execution_count": 238,
   "id": "8eeb90ae-9162-4b0d-92a6-82b0918dd508",
   "metadata": {},
   "outputs": [
    {
     "name": "stdout",
     "output_type": "stream",
     "text": [
      "Radar DOWN.\n"
     ]
    }
   ],
   "source": [
    "rdc.active = False"
   ]
  },
  {
   "cell_type": "code",
   "execution_count": 239,
   "id": "0cee6a1d-2cbf-4a0c-b8df-e06b81acd164",
   "metadata": {},
   "outputs": [
    {
     "name": "stdout",
     "output_type": "stream",
     "text": [
      "238\n",
      "238\n",
      "238\n",
      "238\n",
      "238\n",
      "238\n",
      "238\n",
      "238\n",
      "238\n",
      "238\n"
     ]
    }
   ],
   "source": [
    "for _ in range(10):\n",
    "    print(rdc.qsize)\n",
    "    time.sleep(1)"
   ]
  },
  {
   "cell_type": "markdown",
   "id": "754a6546-e039-4501-aebd-ab2799489f2c",
   "metadata": {},
   "source": [
    "## Camera"
   ]
  },
  {
   "cell_type": "code",
   "execution_count": 240,
   "id": "4114f2fc-f9ad-424e-9d96-6d083af059fe",
   "metadata": {},
   "outputs": [],
   "source": [
    "# ..."
   ]
  },
  {
   "cell_type": "markdown",
   "id": "53df639b-1ddc-4b2f-acd6-45060bf7a63c",
   "metadata": {},
   "source": [
    "## Direct brightness"
   ]
  },
  {
   "cell_type": "code",
   "execution_count": 241,
   "id": "a50f7e8b-832d-42d3-851d-b4048faacc7c",
   "metadata": {},
   "outputs": [],
   "source": [
    "i2c_num = 2\n",
    "br_ctl = BrightnessController(i2c_num)"
   ]
  },
  {
   "cell_type": "code",
   "execution_count": 242,
   "id": "40d1fd77-400d-4eb0-a1e8-4855709328cf",
   "metadata": {},
   "outputs": [
    {
     "ename": "FileNotFoundError",
     "evalue": "[Errno 2] No such file or directory: '/dev/i2c-2'",
     "output_type": "error",
     "traceback": [
      "\u001b[31m---------------------------------------------------------------------------\u001b[39m",
      "\u001b[31mFileNotFoundError\u001b[39m                         Traceback (most recent call last)",
      "\u001b[36mCell\u001b[39m\u001b[36m \u001b[39m\u001b[32mIn[242]\u001b[39m\u001b[32m, line 2\u001b[39m\n\u001b[32m      1\u001b[39m \u001b[38;5;28;01mfor\u001b[39;00m i \u001b[38;5;129;01min\u001b[39;00m \u001b[38;5;28mrange\u001b[39m(\u001b[32m0\u001b[39m, \u001b[32m101\u001b[39m):\n\u001b[32m----> \u001b[39m\u001b[32m2\u001b[39m     \u001b[43mbr_ctl\u001b[49m\u001b[43m.\u001b[49m\u001b[43mset\u001b[49m\u001b[43m(\u001b[49m\u001b[43mi\u001b[49m\u001b[43m)\u001b[49m\n\u001b[32m      3\u001b[39m     time.sleep(\u001b[32m0.01\u001b[39m)\n",
      "\u001b[36mFile \u001b[39m\u001b[32m~/dev/guernica/brightness_controller.py:23\u001b[39m, in \u001b[36mBrightnessController.set\u001b[39m\u001b[34m(self, value)\u001b[39m\n\u001b[32m     20\u001b[39m checksum = \u001b[38;5;28mself\u001b[39m._checksum(message)\n\u001b[32m     21\u001b[39m message.append(checksum)\n\u001b[32m---> \u001b[39m\u001b[32m23\u001b[39m \u001b[38;5;28;01mwith\u001b[39;00m \u001b[43mSMBus\u001b[49m\u001b[43m(\u001b[49m\u001b[38;5;28;43mself\u001b[39;49m\u001b[43m.\u001b[49m\u001b[43mbus_num\u001b[49m\u001b[43m)\u001b[49m \u001b[38;5;28;01mas\u001b[39;00m bus:\n\u001b[32m     24\u001b[39m     bus.write_i2c_block_data(\u001b[38;5;28mself\u001b[39m.ADDRESS, \u001b[38;5;28mself\u001b[39m.REGISTER, message)\n",
      "\u001b[36mFile \u001b[39m\u001b[32m~/dev/guernica/.venv/lib/python3.13/site-packages/smbus2/smbus2.py:280\u001b[39m, in \u001b[36mSMBus.__init__\u001b[39m\u001b[34m(self, bus, force)\u001b[39m\n\u001b[32m    278\u001b[39m \u001b[38;5;28mself\u001b[39m.funcs = I2cFunc(\u001b[32m0\u001b[39m)\n\u001b[32m    279\u001b[39m \u001b[38;5;28;01mif\u001b[39;00m bus \u001b[38;5;129;01mis\u001b[39;00m \u001b[38;5;129;01mnot\u001b[39;00m \u001b[38;5;28;01mNone\u001b[39;00m:\n\u001b[32m--> \u001b[39m\u001b[32m280\u001b[39m     \u001b[38;5;28;43mself\u001b[39;49m\u001b[43m.\u001b[49m\u001b[43mopen\u001b[49m\u001b[43m(\u001b[49m\u001b[43mbus\u001b[49m\u001b[43m)\u001b[49m\n\u001b[32m    281\u001b[39m \u001b[38;5;28mself\u001b[39m.address = \u001b[38;5;28;01mNone\u001b[39;00m\n\u001b[32m    282\u001b[39m \u001b[38;5;28mself\u001b[39m.force = force\n",
      "\u001b[36mFile \u001b[39m\u001b[32m~/dev/guernica/.venv/lib/python3.13/site-packages/smbus2/smbus2.py:310\u001b[39m, in \u001b[36mSMBus.open\u001b[39m\u001b[34m(self, bus)\u001b[39m\n\u001b[32m    307\u001b[39m \u001b[38;5;28;01melse\u001b[39;00m:\n\u001b[32m    308\u001b[39m     \u001b[38;5;28;01mraise\u001b[39;00m \u001b[38;5;167;01mTypeError\u001b[39;00m(\u001b[33m\"\u001b[39m\u001b[33mUnexpected type(bus)=\u001b[39m\u001b[38;5;132;01m{}\u001b[39;00m\u001b[33m\"\u001b[39m.format(\u001b[38;5;28mtype\u001b[39m(bus)))\n\u001b[32m--> \u001b[39m\u001b[32m310\u001b[39m \u001b[38;5;28mself\u001b[39m.fd = \u001b[43mos\u001b[49m\u001b[43m.\u001b[49m\u001b[43mopen\u001b[49m\u001b[43m(\u001b[49m\u001b[43mfilepath\u001b[49m\u001b[43m,\u001b[49m\u001b[43m \u001b[49m\u001b[43mos\u001b[49m\u001b[43m.\u001b[49m\u001b[43mO_RDWR\u001b[49m\u001b[43m)\u001b[49m\n\u001b[32m    311\u001b[39m \u001b[38;5;28mself\u001b[39m.funcs = \u001b[38;5;28mself\u001b[39m._get_funcs()\n",
      "\u001b[31mFileNotFoundError\u001b[39m: [Errno 2] No such file or directory: '/dev/i2c-2'"
     ]
    }
   ],
   "source": [
    "for i in range(0, 101):\n",
    "    br_ctl.set(i)\n",
    "    time.sleep(0.01)"
   ]
  },
  {
   "cell_type": "markdown",
   "id": "451c5cb0-50ef-4e66-8df7-b86c51457f4c",
   "metadata": {},
   "source": [
    "## Manipulating gamma"
   ]
  },
  {
   "cell_type": "code",
   "execution_count": 243,
   "id": "b65be263-282e-43dd-a1b6-122851976f8e",
   "metadata": {},
   "outputs": [],
   "source": [
    "# ..."
   ]
  },
  {
   "cell_type": "markdown",
   "id": "980caf89-bbff-4b91-9c43-e24cceaea63d",
   "metadata": {},
   "source": [
    "## MPV"
   ]
  },
  {
   "cell_type": "code",
   "execution_count": 6,
   "id": "ec866910-eb6b-4f20-9276-e7a051512f93",
   "metadata": {},
   "outputs": [],
   "source": [
    "mpv_ctl = MPVController()"
   ]
  },
  {
   "cell_type": "code",
   "execution_count": 7,
   "id": "6b5f63d2-2ef2-474e-84ac-693b0653f482",
   "metadata": {},
   "outputs": [],
   "source": [
    "# mpv_ctl.get_property(\"working-directory\")"
   ]
  },
  {
   "cell_type": "code",
   "execution_count": 8,
   "id": "a508a68f-acea-4712-86c6-73f64cae7f21",
   "metadata": {},
   "outputs": [],
   "source": [
    "# mpv_ctl.get_property(\"term-status-msg\")"
   ]
  },
  {
   "cell_type": "code",
   "execution_count": 9,
   "id": "3606525d-4ea4-4488-8bbf-27d2d6dd9be5",
   "metadata": {},
   "outputs": [],
   "source": [
    "# mpv_ctl.socket.recv(1024)"
   ]
  },
  {
   "cell_type": "code",
   "execution_count": 10,
   "id": "0d2db628-cddf-4793-b09d-04d0e65481e6",
   "metadata": {},
   "outputs": [],
   "source": [
    "# problems = []\n",
    "# for i in range(500):\n",
    "#     res = mpv_ctl.load_file(video_fpath)\n",
    "#     if res is not None and res['error'] == 'success':\n",
    "#         continue\n",
    "\n",
    "#     problems.append(i)\n",
    "\n",
    "# print(problems)"
   ]
  },
  {
   "cell_type": "code",
   "execution_count": 142,
   "id": "d226eaec-8b75-4cea-bd91-279115e8a77c",
   "metadata": {},
   "outputs": [
    {
     "data": {
      "text/plain": [
       "{'request_id': 902, 'error': 'success'}"
      ]
     },
     "execution_count": 142,
     "metadata": {},
     "output_type": "execute_result"
    }
   ],
   "source": [
    "mpv_ctl.set_property(\"loop-file\", \"inf\")"
   ]
  },
  {
   "cell_type": "code",
   "execution_count": 21,
   "id": "d79b223c-13b5-46d1-8234-0bc132f4d6de",
   "metadata": {},
   "outputs": [
    {
     "data": {
      "text/plain": [
       "{'data': None, 'request_id': 1, 'error': 'success'}"
      ]
     },
     "execution_count": 21,
     "metadata": {},
     "output_type": "execute_result"
    }
   ],
   "source": [
    "mpv_ctl.clear()"
   ]
  },
  {
   "cell_type": "code",
   "execution_count": 11,
   "id": "a77517aa-d83b-4b4a-af16-9380476a65be",
   "metadata": {},
   "outputs": [
    {
     "data": {
      "text/plain": [
       "{'data': {'playlist_entry_id': 1}, 'request_id': 1, 'error': 'success'}"
      ]
     },
     "execution_count": 11,
     "metadata": {},
     "output_type": "execute_result"
    }
   ],
   "source": [
    "mpv_ctl.load_file(video_fpath)"
   ]
  },
  {
   "cell_type": "code",
   "execution_count": 14,
   "id": "ac4d3b2d-e59c-419d-86db-5c40b8995d2f",
   "metadata": {},
   "outputs": [
    {
     "data": {
      "text/plain": [
       "{'data': 888.48, 'request_id': 4, 'error': 'success'}"
      ]
     },
     "execution_count": 14,
     "metadata": {},
     "output_type": "execute_result"
    }
   ],
   "source": [
    "mpv_ctl.get_property(\"duration\")"
   ]
  },
  {
   "cell_type": "code",
   "execution_count": 15,
   "id": "52b1bf56-aefa-4cd0-8ce1-61b6c081d763",
   "metadata": {},
   "outputs": [
    {
     "data": {
      "text/plain": [
       "{'data': 1, 'request_id': 5, 'error': 'success'}"
      ]
     },
     "execution_count": 15,
     "metadata": {},
     "output_type": "execute_result"
    }
   ],
   "source": [
    "mpv_ctl.get_property(\"playlist/count\")"
   ]
  },
  {
   "cell_type": "code",
   "execution_count": 16,
   "id": "b12c7357-193a-494d-95e9-39d8c3ef37af",
   "metadata": {},
   "outputs": [
    {
     "data": {
      "text/plain": [
       "{'data': '/home/tami/videos/head_on_floor_1920x1080.mp4',\n",
       " 'request_id': 6,\n",
       " 'error': 'success'}"
      ]
     },
     "execution_count": 16,
     "metadata": {},
     "output_type": "execute_result"
    }
   ],
   "source": [
    "mpv_ctl.get_property(\"playlist/0/filename\")"
   ]
  },
  {
   "cell_type": "code",
   "execution_count": 17,
   "id": "42822678-6d47-4d74-bff9-231cd258aae3",
   "metadata": {},
   "outputs": [
    {
     "data": {
      "text/plain": [
       "{'request_id': 7, 'error': 'success'}"
      ]
     },
     "execution_count": 17,
     "metadata": {},
     "output_type": "execute_result"
    }
   ],
   "source": [
    "mpv_ctl.play()"
   ]
  },
  {
   "cell_type": "code",
   "execution_count": 18,
   "id": "78bb03e4-af56-431e-98f1-43d989dfb846",
   "metadata": {},
   "outputs": [
    {
     "data": {
      "text/plain": [
       "{'data': False, 'request_id': 8, 'error': 'success'}"
      ]
     },
     "execution_count": 18,
     "metadata": {},
     "output_type": "execute_result"
    }
   ],
   "source": [
    "mpv_ctl.get_property(\"pause\")"
   ]
  },
  {
   "cell_type": "code",
   "execution_count": 12,
   "id": "66b76659",
   "metadata": {},
   "outputs": [
    {
     "data": {
      "text/plain": [
       "{'request_id': 2, 'error': 'success'}"
      ]
     },
     "execution_count": 12,
     "metadata": {},
     "output_type": "execute_result"
    }
   ],
   "source": [
    "mpv_ctl.pause()"
   ]
  },
  {
   "cell_type": "code",
   "execution_count": 140,
   "id": "6fe5a69f",
   "metadata": {},
   "outputs": [
    {
     "data": {
      "text/plain": [
       "{'data': False, 'request_id': 900, 'error': 'success'}"
      ]
     },
     "execution_count": 140,
     "metadata": {},
     "output_type": "execute_result"
    }
   ],
   "source": [
    "mpv_ctl.get_property(\"pause\")"
   ]
  },
  {
   "cell_type": "code",
   "execution_count": 139,
   "id": "8d183707-aee4-406a-bfe4-718719faf6e6",
   "metadata": {},
   "outputs": [
    {
     "data": {
      "text/plain": [
       "{'data': 4.541583, 'request_id': 899, 'error': 'success'}"
      ]
     },
     "execution_count": 139,
     "metadata": {},
     "output_type": "execute_result"
    }
   ],
   "source": [
    "mpv_ctl.get_property(\"time-pos\")"
   ]
  },
  {
   "cell_type": "code",
   "execution_count": 75,
   "id": "53c86621-86e5-4c63-b381-ead22509c4fd",
   "metadata": {},
   "outputs": [
    {
     "data": {
      "text/plain": [
       "{'data': -0.004625, 'request_id': 634, 'error': 'success'}"
      ]
     },
     "execution_count": 75,
     "metadata": {},
     "output_type": "execute_result"
    }
   ],
   "source": [
    "mpv_ctl.get_property(\"playback-time\")"
   ]
  },
  {
   "cell_type": "code",
   "execution_count": 138,
   "id": "ac7860c2-3f2e-44c6-975c-e9ca5f73ab8f",
   "metadata": {},
   "outputs": [
    {
     "data": {
      "text/plain": [
       "{'data': 9.893542, 'request_id': 898, 'error': 'success'}"
      ]
     },
     "execution_count": 138,
     "metadata": {},
     "output_type": "execute_result"
    }
   ],
   "source": [
    "mpv_ctl.get_property(\"time-remaining\")"
   ]
  },
  {
   "cell_type": "code",
   "execution_count": 137,
   "id": "45526208-6ce1-4bdb-a2bf-8867b16f9a30",
   "metadata": {},
   "outputs": [
    {
     "data": {
      "text/plain": [
       "{'data': 'vo', 'request_id': 897, 'error': 'success'}"
      ]
     },
     "execution_count": 137,
     "metadata": {},
     "output_type": "execute_result"
    }
   ],
   "source": [
    "mpv_ctl.get_property(\"framedrop\")"
   ]
  },
  {
   "cell_type": "code",
   "execution_count": 136,
   "id": "6cda93e3-4db4-4be0-a554-6597787458f6",
   "metadata": {},
   "outputs": [
    {
     "data": {
      "text/plain": [
       "{'data': 4, 'request_id': 896, 'error': 'success'}"
      ]
     },
     "execution_count": 136,
     "metadata": {},
     "output_type": "execute_result"
    }
   ],
   "source": [
    "mpv_ctl.get_property(\"frame-drop-count\")"
   ]
  },
  {
   "cell_type": "code",
   "execution_count": 113,
   "id": "c875ecb0-fcf7-4a0a-b970-dc74f75ad9a8",
   "metadata": {},
   "outputs": [
    {
     "data": {
      "text/plain": [
       "{'data': None, 'request_id': 873, 'error': 'success'}"
      ]
     },
     "execution_count": 113,
     "metadata": {},
     "output_type": "execute_result"
    }
   ],
   "source": [
    "mpv_ctl.seek(0)"
   ]
  },
  {
   "cell_type": "code",
   "execution_count": 116,
   "id": "7bd1df45",
   "metadata": {},
   "outputs": [
    {
     "data": {
      "text/plain": [
       "{'data': 7.87825, 'request_id': 876, 'error': 'success'}"
      ]
     },
     "execution_count": 116,
     "metadata": {},
     "output_type": "execute_result"
    }
   ],
   "source": [
    "mpv_ctl.get_property(\"playback-time\")"
   ]
  },
  {
   "cell_type": "code",
   "execution_count": 110,
   "id": "f5473cc8",
   "metadata": {},
   "outputs": [
    {
     "data": {
      "text/plain": [
       "{'data': 4.012667, 'request_id': 870, 'error': 'success'}"
      ]
     },
     "execution_count": 110,
     "metadata": {},
     "output_type": "execute_result"
    }
   ],
   "source": [
    "mpv_ctl.get_property(\"time-remaining\")"
   ]
  },
  {
   "cell_type": "code",
   "execution_count": 145,
   "id": "d23342e0-b34d-4b09-9f15-f624167a40a6",
   "metadata": {},
   "outputs": [],
   "source": [
    "for i in range(-100, 1):\n",
    "    mpv_ctl.set_brightness(i, osd=True)\n",
    "    time.sleep(0.1)"
   ]
  },
  {
   "cell_type": "code",
   "execution_count": 153,
   "id": "3cbae7ff-6c5b-4182-a11c-6c9e7555669f",
   "metadata": {},
   "outputs": [
    {
     "data": {
      "text/plain": [
       "{'data': 100.0, 'request_id': 115, 'error': 'success'}"
      ]
     },
     "execution_count": 153,
     "metadata": {},
     "output_type": "execute_result"
    }
   ],
   "source": [
    "mpv_ctl.get_property(\"volume\")"
   ]
  },
  {
   "cell_type": "markdown",
   "id": "d340340b-82a7-4296-b0c8-571178e89286",
   "metadata": {},
   "source": [
    "## Controller"
   ]
  },
  {
   "cell_type": "code",
   "execution_count": null,
   "id": "e2c66cce-8306-4373-99f2-bdc1c94a9594",
   "metadata": {},
   "outputs": [],
   "source": [
    "ws = 1\n",
    "dmin = 1000\n",
    "dmax = 2500\n",
    "\n",
    "ctl = Controller(uartdev, ws, dmin, dmax, screen_bus=i2c_num)"
   ]
  },
  {
   "cell_type": "code",
   "execution_count": null,
   "id": "f14c2b58-6965-4233-96b7-3cc40c1fb0c1",
   "metadata": {},
   "outputs": [],
   "source": [
    "ctl.start()"
   ]
  },
  {
   "cell_type": "markdown",
   "id": "e759a135-79d2-4556-bf24-fa869e55d185",
   "metadata": {},
   "source": [
    "## Plotter"
   ]
  },
  {
   "cell_type": "code",
   "execution_count": null,
   "id": "38e90d1f-3717-4b0a-8628-9e377e91474b",
   "metadata": {},
   "outputs": [],
   "source": [
    "p = Plotter(uartdev, ws, dmin, dmax, verbose=True, xmin=-3000, xmax=3000, ymin=-4000)"
   ]
  },
  {
   "cell_type": "code",
   "execution_count": null,
   "id": "2ea69c3a-02aa-484a-bda2-cd5b349da05c",
   "metadata": {},
   "outputs": [],
   "source": [
    "ani = p.start()"
   ]
  },
  {
   "cell_type": "code",
   "execution_count": null,
   "id": "335c73bb-3f46-4634-a943-928e7f4d1c90",
   "metadata": {},
   "outputs": [],
   "source": [
    "HTML(ani.to_jshtml())"
   ]
  },
  {
   "cell_type": "code",
   "execution_count": null,
   "id": "6e8c6aae-1950-4e63-b3d0-85e3ba0cad1a",
   "metadata": {},
   "outputs": [],
   "source": []
  },
  {
   "cell_type": "code",
   "execution_count": null,
   "id": "5b0ed8f5-348b-4b50-aa34-92f68f72239d",
   "metadata": {},
   "outputs": [],
   "source": []
  },
  {
   "cell_type": "code",
   "execution_count": null,
   "id": "f51b4679-0dc6-46d3-b88b-d63f4eaec398",
   "metadata": {},
   "outputs": [],
   "source": []
  }
 ],
 "metadata": {
  "kernelspec": {
   "display_name": "Python 3 (ipykernel)",
   "language": "python",
   "name": "python3"
  },
  "language_info": {
   "codemirror_mode": {
    "name": "ipython",
    "version": 3
   },
   "file_extension": ".py",
   "mimetype": "text/x-python",
   "name": "python",
   "nbconvert_exporter": "python",
   "pygments_lexer": "ipython3",
   "version": "3.13.0"
  }
 },
 "nbformat": 4,
 "nbformat_minor": 5
}
