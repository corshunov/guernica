{
 "cells": [
  {
   "cell_type": "code",
   "execution_count": 1,
   "id": "926e7206-4c28-4123-8217-fada44e297c8",
   "metadata": {},
   "outputs": [],
   "source": [
    "%load_ext autoreload\n",
    "%autoreload 2"
   ]
  },
  {
   "cell_type": "code",
   "execution_count": 2,
   "id": "a9e0c7a8-4067-4d18-ba4c-eb6f278401d4",
   "metadata": {},
   "outputs": [],
   "source": [
    "import os\n",
    "import sys\n",
    "import time"
   ]
  },
  {
   "cell_type": "code",
   "execution_count": 3,
   "id": "e1e461e8-9dbf-467c-acc5-104c28b3bade",
   "metadata": {},
   "outputs": [],
   "source": [
    "from IPython.display import HTML"
   ]
  },
  {
   "cell_type": "code",
   "execution_count": 4,
   "id": "5e0f3b6b-fe62-4a7b-949d-9b28c76ede73",
   "metadata": {},
   "outputs": [],
   "source": [
    "from brightness_controller import BrightnessController\n",
    "from controller import Controller\n",
    "from mpv import MPVController\n",
    "from radar import LD2450\n",
    "from radar_data_collector import RadarDataCollector\n",
    "from sliding_average import SlidingAverage"
   ]
  },
  {
   "cell_type": "code",
   "execution_count": 143,
   "id": "68ffcba6-cd2f-42cd-b92e-1ea321c5ebc7",
   "metadata": {},
   "outputs": [],
   "source": [
    "uartdev = \"/dev/ttyS0\""
   ]
  },
  {
   "cell_type": "markdown",
   "id": "f2efa05c-bc2a-44ca-be54-bac4725feaff",
   "metadata": {},
   "source": [
    "## Sliding average"
   ]
  },
  {
   "cell_type": "code",
   "execution_count": 6,
   "id": "29b56997-0229-4264-b068-580d5926e41e",
   "metadata": {},
   "outputs": [
    {
     "name": "stdout",
     "output_type": "stream",
     "text": [
      "  60 |   60    0    0    0 |   60    0    0    0 |  15.00  15.00 | yes\n",
      " -83 |   60  -83    0    0 |   60  -83    0    0 |  -5.75  -5.75 | yes\n",
      "  99 |   60  -83   99    0 |   60  -83   99    0 |  19.00  19.00 | yes\n",
      "  76 |   60  -83   99   76 |   60  -83   99   76 |  38.00  38.00 | yes\n",
      " -44 |  -83   99   76  -44 |  -44  -83   99   76 |  12.00  12.00 | yes\n",
      " -80 |   99   76  -44  -80 |  -44  -80   99   76 |  12.75  12.75 | yes\n",
      " -16 |   76  -44  -80  -16 |  -44  -80  -16   76 | -16.00 -16.00 | yes\n",
      "  85 |  -44  -80  -16   85 |  -44  -80  -16   85 | -13.75 -13.75 | yes\n",
      "   2 |  -80  -16   85    2 |    2  -80  -16   85 |  -2.25  -2.25 | yes\n",
      "  10 |  -16   85    2   10 |    2   10  -16   85 |  20.25  20.25 | yes\n",
      "  98 |   85    2   10   98 |    2   10   98   85 |  48.75  48.75 | yes\n",
      "  32 |    2   10   98   32 |    2   10   98   32 |  35.50  35.50 | yes\n"
     ]
    }
   ],
   "source": [
    "SlidingAverage.show_check(n=12, ws=4)"
   ]
  },
  {
   "cell_type": "code",
   "execution_count": 7,
   "id": "ace0a233-ba76-4e42-86e8-7603a6ec32da",
   "metadata": {},
   "outputs": [
    {
     "name": "stdout",
     "output_type": "stream",
     "text": [
      "0 | [0, 0, 0, 0] | 0.00\n",
      "1 | [0, 1, 0, 0] | 0.25\n",
      "2 | [0, 1, 2, 0] | 0.75\n",
      "3 | [0, 1, 2, 3] | 1.50\n",
      "4 | [4, 1, 2, 3] | 2.50\n",
      "5 | [4, 5, 2, 3] | 3.50\n",
      "6 | [4, 5, 6, 3] | 4.50\n",
      "7 | [4, 5, 6, 7] | 5.50\n",
      "8 | [8, 5, 6, 7] | 6.50\n",
      "9 | [8, 9, 6, 7] | 7.50\n"
     ]
    }
   ],
   "source": [
    "avg = SlidingAverage(4)\n",
    "for i in range(10):\n",
    "    avg.add(i)\n",
    "    print(f\"{i} | {avg.vals} | {avg.avg:.2f}\")"
   ]
  },
  {
   "cell_type": "markdown",
   "id": "0889dec1-80e9-4479-b418-ca4df89239bc",
   "metadata": {},
   "source": [
    "## Radar LD2450"
   ]
  },
  {
   "cell_type": "code",
   "execution_count": 8,
   "id": "a2e31558-e52e-447e-a6d4-c0d0eb961411",
   "metadata": {},
   "outputs": [],
   "source": [
    "r = LD2450(uartdev)"
   ]
  },
  {
   "cell_type": "code",
   "execution_count": 9,
   "id": "a3404092-8216-4381-a15b-8a3d01a0b4a5",
   "metadata": {},
   "outputs": [
    {
     "data": {
      "text/plain": [
       "'/dev/ttyS0'"
      ]
     },
     "execution_count": 9,
     "metadata": {},
     "output_type": "execute_result"
    }
   ],
   "source": [
    "r.uartdev"
   ]
  },
  {
   "cell_type": "code",
   "execution_count": 10,
   "id": "1563c859-2c26-4b52-968c-0920e46d0599",
   "metadata": {},
   "outputs": [
    {
     "data": {
      "text/plain": [
       "False"
      ]
     },
     "execution_count": 10,
     "metadata": {},
     "output_type": "execute_result"
    }
   ],
   "source": [
    "r.verbose"
   ]
  },
  {
   "cell_type": "code",
   "execution_count": 11,
   "id": "8bdd1d71-8237-4b7b-95cd-5e05aecbf158",
   "metadata": {},
   "outputs": [
    {
     "name": "stdout",
     "output_type": "stream",
     "text": [
      "780\n",
      "0\n"
     ]
    }
   ],
   "source": [
    "print(r.in_waiting)\n",
    "r.clean()\n",
    "print(r.in_waiting)"
   ]
  },
  {
   "cell_type": "code",
   "execution_count": 12,
   "id": "e73f060a-985f-4a77-8cb4-a223ec813144",
   "metadata": {},
   "outputs": [],
   "source": [
    "r.restart()"
   ]
  },
  {
   "cell_type": "code",
   "execution_count": 13,
   "id": "19420dba-b1f5-471a-bb78-9c98da5b2a44",
   "metadata": {},
   "outputs": [
    {
     "data": {
      "text/plain": [
       "'V2.04.23101915'"
      ]
     },
     "execution_count": 13,
     "metadata": {},
     "output_type": "execute_result"
    }
   ],
   "source": [
    "r.get_firmware_version()"
   ]
  },
  {
   "cell_type": "code",
   "execution_count": 14,
   "id": "0049a98a-daa4-49f9-b29e-87dd73f267ed",
   "metadata": {},
   "outputs": [
    {
     "data": {
      "text/plain": [
       "'B8 06 B8 19 8E BA'"
      ]
     },
     "execution_count": 14,
     "metadata": {},
     "output_type": "execute_result"
    }
   ],
   "source": [
    "r.get_mac_address()"
   ]
  },
  {
   "cell_type": "code",
   "execution_count": 15,
   "id": "2c502da6-2785-4036-8dc2-5bb7a591c2d1",
   "metadata": {},
   "outputs": [
    {
     "data": {
      "text/plain": [
       "True"
      ]
     },
     "execution_count": 15,
     "metadata": {},
     "output_type": "execute_result"
    }
   ],
   "source": [
    "r.get_bluetooth_state()"
   ]
  },
  {
   "cell_type": "code",
   "execution_count": 16,
   "id": "da24acf0-08f8-4e11-86e1-14f3fd6a1d04",
   "metadata": {},
   "outputs": [
    {
     "data": {
      "text/plain": [
       "2"
      ]
     },
     "execution_count": 16,
     "metadata": {},
     "output_type": "execute_result"
    }
   ],
   "source": [
    "r.get_tracking_mode()"
   ]
  },
  {
   "cell_type": "code",
   "execution_count": 17,
   "id": "09647d4a-bdfb-4956-90a3-4a51fa6f9784",
   "metadata": {},
   "outputs": [
    {
     "data": {
      "text/plain": [
       "[0, 0, 0, 0, 0, 0, 0, 0, 0, 0, 0, 0, 0]"
      ]
     },
     "execution_count": 17,
     "metadata": {},
     "output_type": "execute_result"
    }
   ],
   "source": [
    "r.get_zone_filtering()"
   ]
  },
  {
   "cell_type": "code",
   "execution_count": 19,
   "id": "bfcc45a4-c23d-4e8b-8dd1-83046b377a97",
   "metadata": {},
   "outputs": [
    {
     "name": "stdout",
     "output_type": "stream",
     "text": [
      "UART device: /dev/ttyS0\n",
      "Firmware version: V2.04.23101915\n",
      "Bluetooth: ON (MAC address: B8 06 B8 19 8E BA)\n",
      "Multi tracking: ON\n",
      "Zone filtering: [0, 0, 0, 0, 0, 0, 0, 0, 0, 0, 0, 0, 0]\n"
     ]
    }
   ],
   "source": [
    "r.show_info()"
   ]
  },
  {
   "cell_type": "code",
   "execution_count": 20,
   "id": "e9b007d0-2959-4a3c-98e4-6a2d2cb2db50",
   "metadata": {},
   "outputs": [],
   "source": [
    "r.set_bluetooth_on(restart=True)\n",
    "r.set_multi_tracking()"
   ]
  },
  {
   "cell_type": "code",
   "execution_count": 21,
   "id": "9fb9bbba-fb63-477b-a6c6-3f3adc00c179",
   "metadata": {},
   "outputs": [
    {
     "name": "stdout",
     "output_type": "stream",
     "text": [
      "UART device: /dev/ttyS0\n",
      "Firmware version: V2.04.23101915\n",
      "Bluetooth: ON (MAC address: B8 06 B8 19 8E BA)\n",
      "Multi tracking: ON\n",
      "Zone filtering: [0, 0, 0, 0, 0, 0, 0, 0, 0, 0, 0, 0, 0]\n"
     ]
    }
   ],
   "source": [
    "r.show_info()"
   ]
  },
  {
   "cell_type": "code",
   "execution_count": 22,
   "id": "306ff14a-d490-4709-a03f-afdee0e732e8",
   "metadata": {
    "scrolled": true
   },
   "outputs": [
    {
     "name": "stdout",
     "output_type": "stream",
     "text": [
      "0\n",
      "1\n",
      "2\n",
      "3\n",
      "4\n",
      "5\n",
      "6\n",
      "7\n",
      "8\n",
      "9\n",
      "10\n",
      "11\n",
      "12\n",
      "13\n",
      "14\n",
      "15\n",
      "16\n",
      "17\n",
      "18\n",
      "19\n",
      "20\n",
      "21\n",
      "22\n",
      "23\n",
      "24\n",
      "25\n",
      "26\n",
      "27\n",
      "28\n",
      "29\n",
      "30\n",
      "31\n",
      "32\n",
      "33\n",
      "34\n",
      "35\n",
      "36\n",
      "37\n",
      "38\n",
      "39\n",
      "40\n",
      "41\n",
      "42\n",
      "43\n",
      "44\n",
      "45\n",
      "46\n",
      "47\n",
      "48\n",
      "49\n",
      "50\n",
      "51\n",
      "52\n",
      "53\n",
      "54\n",
      "55\n",
      "56\n",
      "57\n",
      "58\n",
      "59\n",
      "60\n",
      "61\n",
      "62\n",
      "63\n",
      "64\n",
      "65\n",
      "66\n",
      "67\n",
      "68\n",
      "69\n",
      "70\n",
      "71\n",
      "72\n",
      "73\n",
      "74\n",
      "75\n",
      "76\n",
      "77\n",
      "78\n",
      "79\n",
      "80\n",
      "81\n",
      "82\n",
      "83\n",
      "84\n",
      "85\n",
      "86\n",
      "87\n",
      "88\n",
      "89\n",
      "90\n",
      "91\n",
      "92\n",
      "93\n",
      "94\n",
      "95\n",
      "96\n",
      "97\n",
      "98\n",
      "99\n",
      "\n",
      "Firmware version: ['V2.04.23101915']\n",
      "MAC address: ['B8 06 B8 19 8E BA']\n",
      "Tracking mode: [2]\n"
     ]
    }
   ],
   "source": [
    "r.test(100)"
   ]
  },
  {
   "cell_type": "code",
   "execution_count": 23,
   "id": "d5ab53a6-82e0-4412-be60-fcf044888a79",
   "metadata": {
    "scrolled": true
   },
   "outputs": [
    {
     "name": "stdout",
     "output_type": "stream",
     "text": [
      "1050\n",
      "    0     0 |     0     0 |     0     0 | IN:     0 | sample:     1\n",
      "    0     0 |     0     0 |     0     0 | IN:     0 | sample:     2\n",
      "    0     0 |     0     0 |     0     0 | IN:     0 | sample:     3\n",
      "    0     0 |     0     0 |     0     0 | IN:     0 | sample:     4\n",
      "    0     0 |     0     0 |     0     0 | IN:     0 | sample:     5\n",
      "    0     0 |     0     0 |     0     0 | IN:     0 | sample:     6\n",
      "    0     0 |     0     0 |     0     0 | IN:     0 | sample:     7\n",
      "    0     0 |     0     0 |     0     0 | IN:     0 | sample:     8\n",
      "    0     0 |     0     0 |     0     0 | IN:     0 | sample:     9\n",
      "    0     0 |     0     0 |     0     0 | IN:     0 | sample:    10\n",
      "    0     0 |     0     0 |     0     0 | IN:     0 | sample:    11\n",
      "\n",
      "    0     0 |     0     0 |     0     0 | IN:     0 | sample:     1\n",
      "    0     0 |     0     0 |     0     0 | IN:     0 | sample:     2\n",
      "    0     0 |     0     0 |     0     0 | IN:     0 | sample:     3\n",
      "    0     0 |     0     0 |     0     0 | IN:     0 | sample:     4\n",
      "    0     0 |     0     0 |     0     0 | IN:     0 | sample:     5\n",
      "    0     0 |     0     0 |     0     0 | IN:     0 | sample:     6\n",
      "    0     0 |     0     0 |     0     0 | IN:     0 | sample:     7\n",
      "    0     0 |     0     0 |     0     0 | IN:     0 | sample:     8\n",
      "    0     0 |     0     0 |     0     0 | IN:     0 | sample:     9\n",
      "    0     0 |     0     0 |     0     0 | IN:     0 | sample:    10\n",
      "    0     0 |     0     0 |     0     0 | IN:     0 | sample:    11\n",
      "    0     0 |     0     0 |     0     0 | IN:     0 | sample:    12\n",
      "\n",
      "    0     0 |     0     0 |     0     0 | IN:     0 | sample:     1\n",
      "    0     0 |     0     0 |     0     0 | IN:     0 | sample:     2\n",
      "    0     0 |     0     0 |     0     0 | IN:     0 | sample:     3\n",
      "    0     0 |     0     0 |     0     0 | IN:     0 | sample:     4\n",
      "    0     0 |     0     0 |     0     0 | IN:     0 | sample:     5\n",
      "    0     0 |     0     0 |     0     0 | IN:     0 | sample:     6\n",
      "    0     0 |     0     0 |     0     0 | IN:     0 | sample:     7\n",
      "    0     0 |     0     0 |     0     0 | IN:     0 | sample:     8\n",
      "    0     0 |     0     0 |     0     0 | IN:     0 | sample:     9\n",
      "    0     0 |     0     0 |     0     0 | IN:     0 | sample:    10\n",
      "    0     0 |     0     0 |     0     0 | IN:     0 | sample:    11\n",
      "    0     0 |     0     0 |     0     0 | IN:     0 | sample:    12\n",
      "\n",
      "    0     0 |     0     0 |     0     0 | IN:     0 | sample:     1\n",
      "    0     0 |     0     0 |     0     0 | IN:     0 | sample:     2\n",
      "    0     0 |     0     0 |     0     0 | IN:     0 | sample:     3\n",
      "    0     0 |     0     0 |     0     0 | IN:     0 | sample:     4\n",
      "    0     0 |     0     0 |     0     0 | IN:     0 | sample:     5\n",
      "    0     0 |     0     0 |     0     0 | IN:     0 | sample:     6\n",
      "    0     0 |     0     0 |     0     0 | IN:     0 | sample:     7\n",
      "    0     0 |     0     0 |     0     0 | IN:     0 | sample:     8\n",
      "    0     0 |     0     0 |     0     0 | IN:     0 | sample:     9\n",
      "    0     0 |     0     0 |     0     0 | IN:     0 | sample:    10\n",
      "    0     0 |     0     0 |     0     0 | IN:     0 | sample:    11\n",
      "    0     0 |     0     0 |     0     0 | IN:     0 | sample:    12\n",
      "\n",
      "    0     0 |     0     0 |     0     0 | IN:     0 | sample:     1\n",
      "    0     0 |     0     0 |     0     0 | IN:     0 | sample:     2\n",
      "    0     0 |     0     0 |     0     0 | IN:     0 | sample:     3\n",
      "    0     0 |     0     0 |     0     0 | IN:     0 | sample:     4\n"
     ]
    }
   ],
   "source": [
    "print(r.in_waiting)\n",
    "r.show_data(50)"
   ]
  },
  {
   "cell_type": "markdown",
   "id": "30da7ca2-bb5c-4d76-b53e-eac5e7dd2f1d",
   "metadata": {},
   "source": [
    "## Radar 2410C"
   ]
  },
  {
   "cell_type": "code",
   "execution_count": 24,
   "id": "5f64e376-2487-418e-a553-8cd1dcd0d370",
   "metadata": {},
   "outputs": [],
   "source": [
    "# ..."
   ]
  },
  {
   "cell_type": "markdown",
   "id": "1d623a83-03b4-4a0a-a82f-86faed07ab3d",
   "metadata": {},
   "source": [
    "## Radar 2461"
   ]
  },
  {
   "cell_type": "code",
   "execution_count": 25,
   "id": "bbb830c8-c4ad-4555-8ea7-9cfdbb3e4510",
   "metadata": {},
   "outputs": [],
   "source": [
    "# ..."
   ]
  },
  {
   "cell_type": "markdown",
   "id": "8ea3fc9a-610c-4bbd-a9c5-a2556c356637",
   "metadata": {},
   "source": [
    "## Radar data collector"
   ]
  },
  {
   "cell_type": "code",
   "execution_count": 127,
   "id": "bb260c5e-30d6-4699-aaa8-bf4bf307c0f3",
   "metadata": {},
   "outputs": [],
   "source": [
    "rdc = RadarDataCollector(uartdev)"
   ]
  },
  {
   "cell_type": "code",
   "execution_count": 128,
   "id": "ff4e35bf-c87c-46a8-8be5-8f2ee8c51dbb",
   "metadata": {},
   "outputs": [
    {
     "name": "stdout",
     "output_type": "stream",
     "text": [
      "UART device: /dev/ttyS0\n",
      "Firmware version: V2.04.23101915\n",
      "Bluetooth: ON (MAC address: B8 06 B8 19 8E BA)\n",
      "Multi tracking: ON\n",
      "Zone filtering: [0, 0, 0, 0, 0, 0, 0, 0, 0, 0, 0, 0, 0]\n"
     ]
    }
   ],
   "source": [
    "rdc.radar.show_info()"
   ]
  },
  {
   "cell_type": "code",
   "execution_count": 129,
   "id": "87b8ec0b-3049-423c-9358-e772230af7ba",
   "metadata": {},
   "outputs": [
    {
     "data": {
      "text/plain": [
       "'/dev/ttyS0'"
      ]
     },
     "execution_count": 129,
     "metadata": {},
     "output_type": "execute_result"
    }
   ],
   "source": [
    "rdc.uartdev"
   ]
  },
  {
   "cell_type": "code",
   "execution_count": 130,
   "id": "88edad11-af16-4a43-923e-46752b4a4054",
   "metadata": {},
   "outputs": [
    {
     "data": {
      "text/plain": [
       "True"
      ]
     },
     "execution_count": 130,
     "metadata": {},
     "output_type": "execute_result"
    }
   ],
   "source": [
    "rdc.default_bluetooth"
   ]
  },
  {
   "cell_type": "code",
   "execution_count": 131,
   "id": "d5f7eda5-4820-40ba-91be-0088dc6f093b",
   "metadata": {},
   "outputs": [
    {
     "data": {
      "text/plain": [
       "True"
      ]
     },
     "execution_count": 131,
     "metadata": {},
     "output_type": "execute_result"
    }
   ],
   "source": [
    "rdc.default_multi_tracking"
   ]
  },
  {
   "cell_type": "code",
   "execution_count": 132,
   "id": "d49bfda6-2df3-46cd-9269-843833940912",
   "metadata": {},
   "outputs": [
    {
     "data": {
      "text/plain": [
       "True"
      ]
     },
     "execution_count": 132,
     "metadata": {},
     "output_type": "execute_result"
    }
   ],
   "source": [
    "rdc.active"
   ]
  },
  {
   "cell_type": "code",
   "execution_count": 133,
   "id": "f3d956f3-a2a5-434a-850d-47e58a42bfd6",
   "metadata": {},
   "outputs": [
    {
     "data": {
      "text/plain": [
       "0"
      ]
     },
     "execution_count": 133,
     "metadata": {},
     "output_type": "execute_result"
    }
   ],
   "source": [
    "rdc.qsize"
   ]
  },
  {
   "cell_type": "code",
   "execution_count": 134,
   "id": "69b8c772-59b7-47d1-90e6-f64ed9ca905d",
   "metadata": {},
   "outputs": [
    {
     "data": {
      "text/plain": [
       "True"
      ]
     },
     "execution_count": 134,
     "metadata": {},
     "output_type": "execute_result"
    }
   ],
   "source": [
    "rdc.empty"
   ]
  },
  {
   "cell_type": "code",
   "execution_count": 135,
   "id": "afc1d515-0f90-4250-85bc-dbc9304d8b52",
   "metadata": {},
   "outputs": [
    {
     "name": "stdout",
     "output_type": "stream",
     "text": [
      "Radar UP.\n"
     ]
    }
   ],
   "source": [
    "rdc.start()"
   ]
  },
  {
   "cell_type": "code",
   "execution_count": 137,
   "id": "03422ef2-e121-408c-9ff4-3a3a284fc45f",
   "metadata": {},
   "outputs": [
    {
     "name": "stdout",
     "output_type": "stream",
     "text": [
      "118\n",
      "130\n",
      "141\n",
      "152\n",
      "163\n",
      "175\n",
      "186\n",
      "197\n",
      "208\n",
      "220\n"
     ]
    }
   ],
   "source": [
    "for _ in range(10):\n",
    "    print(rdc.qsize)\n",
    "    time.sleep(1)"
   ]
  },
  {
   "cell_type": "code",
   "execution_count": 138,
   "id": "8eeb90ae-9162-4b0d-92a6-82b0918dd508",
   "metadata": {},
   "outputs": [
    {
     "name": "stdout",
     "output_type": "stream",
     "text": [
      "Radar DOWN.\n"
     ]
    }
   ],
   "source": [
    "rdc.active = False"
   ]
  },
  {
   "cell_type": "code",
   "execution_count": 139,
   "id": "0cee6a1d-2cbf-4a0c-b8df-e06b81acd164",
   "metadata": {},
   "outputs": [
    {
     "name": "stdout",
     "output_type": "stream",
     "text": [
      "270\n",
      "270\n",
      "270\n",
      "270\n",
      "270\n",
      "270\n",
      "270\n",
      "270\n",
      "270\n",
      "270\n"
     ]
    }
   ],
   "source": [
    "for _ in range(10):\n",
    "    print(rdc.qsize)\n",
    "    time.sleep(1)"
   ]
  },
  {
   "cell_type": "markdown",
   "id": "754a6546-e039-4501-aebd-ab2799489f2c",
   "metadata": {},
   "source": [
    "## Camera"
   ]
  },
  {
   "cell_type": "code",
   "execution_count": 140,
   "id": "4114f2fc-f9ad-424e-9d96-6d083af059fe",
   "metadata": {},
   "outputs": [],
   "source": [
    "# ..."
   ]
  },
  {
   "cell_type": "markdown",
   "id": "53df639b-1ddc-4b2f-acd6-45060bf7a63c",
   "metadata": {},
   "source": [
    "## Direct brightness"
   ]
  },
  {
   "cell_type": "code",
   "execution_count": 141,
   "id": "a50f7e8b-832d-42d3-851d-b4048faacc7c",
   "metadata": {},
   "outputs": [],
   "source": [
    "i2c_num = 2\n",
    "br_ctl = BrightnessController(i2c_num)"
   ]
  },
  {
   "cell_type": "code",
   "execution_count": 142,
   "id": "40d1fd77-400d-4eb0-a1e8-4855709328cf",
   "metadata": {},
   "outputs": [
    {
     "ename": "FileNotFoundError",
     "evalue": "[Errno 2] No such file or directory: '/dev/i2c-2'",
     "output_type": "error",
     "traceback": [
      "\u001b[31m---------------------------------------------------------------------------\u001b[39m",
      "\u001b[31mFileNotFoundError\u001b[39m                         Traceback (most recent call last)",
      "\u001b[36mCell\u001b[39m\u001b[36m \u001b[39m\u001b[32mIn[142]\u001b[39m\u001b[32m, line 2\u001b[39m\n\u001b[32m      1\u001b[39m \u001b[38;5;28;01mfor\u001b[39;00m i \u001b[38;5;129;01min\u001b[39;00m \u001b[38;5;28mrange\u001b[39m(\u001b[32m0\u001b[39m, \u001b[32m101\u001b[39m):\n\u001b[32m----> \u001b[39m\u001b[32m2\u001b[39m     \u001b[43mbr_ctl\u001b[49m\u001b[43m.\u001b[49m\u001b[43mset\u001b[49m\u001b[43m(\u001b[49m\u001b[43mi\u001b[49m\u001b[43m)\u001b[49m\n\u001b[32m      3\u001b[39m     time.sleep(\u001b[32m0.01\u001b[39m)\n",
      "\u001b[36mFile \u001b[39m\u001b[32m~/guernica/brightness_controller.py:23\u001b[39m, in \u001b[36mBrightnessController.set\u001b[39m\u001b[34m(self, value)\u001b[39m\n\u001b[32m     20\u001b[39m checksum = \u001b[38;5;28mself\u001b[39m._checksum(message)\n\u001b[32m     21\u001b[39m message.append(checksum)\n\u001b[32m---> \u001b[39m\u001b[32m23\u001b[39m \u001b[38;5;28;01mwith\u001b[39;00m \u001b[43mSMBus\u001b[49m\u001b[43m(\u001b[49m\u001b[38;5;28;43mself\u001b[39;49m\u001b[43m.\u001b[49m\u001b[43mbus_num\u001b[49m\u001b[43m)\u001b[49m \u001b[38;5;28;01mas\u001b[39;00m bus:\n\u001b[32m     24\u001b[39m     bus.write_i2c_block_data(\u001b[38;5;28mself\u001b[39m.ADDRESS, \u001b[38;5;28mself\u001b[39m.REGISTER, message)\n",
      "\u001b[36mFile \u001b[39m\u001b[32m~/guernica/.venv/lib/python3.11/site-packages/smbus2/smbus2.py:280\u001b[39m, in \u001b[36mSMBus.__init__\u001b[39m\u001b[34m(self, bus, force)\u001b[39m\n\u001b[32m    278\u001b[39m \u001b[38;5;28mself\u001b[39m.funcs = I2cFunc(\u001b[32m0\u001b[39m)\n\u001b[32m    279\u001b[39m \u001b[38;5;28;01mif\u001b[39;00m bus \u001b[38;5;129;01mis\u001b[39;00m \u001b[38;5;129;01mnot\u001b[39;00m \u001b[38;5;28;01mNone\u001b[39;00m:\n\u001b[32m--> \u001b[39m\u001b[32m280\u001b[39m     \u001b[38;5;28;43mself\u001b[39;49m\u001b[43m.\u001b[49m\u001b[43mopen\u001b[49m\u001b[43m(\u001b[49m\u001b[43mbus\u001b[49m\u001b[43m)\u001b[49m\n\u001b[32m    281\u001b[39m \u001b[38;5;28mself\u001b[39m.address = \u001b[38;5;28;01mNone\u001b[39;00m\n\u001b[32m    282\u001b[39m \u001b[38;5;28mself\u001b[39m.force = force\n",
      "\u001b[36mFile \u001b[39m\u001b[32m~/guernica/.venv/lib/python3.11/site-packages/smbus2/smbus2.py:310\u001b[39m, in \u001b[36mSMBus.open\u001b[39m\u001b[34m(self, bus)\u001b[39m\n\u001b[32m    307\u001b[39m \u001b[38;5;28;01melse\u001b[39;00m:\n\u001b[32m    308\u001b[39m     \u001b[38;5;28;01mraise\u001b[39;00m \u001b[38;5;167;01mTypeError\u001b[39;00m(\u001b[33m\"\u001b[39m\u001b[33mUnexpected type(bus)=\u001b[39m\u001b[38;5;132;01m{}\u001b[39;00m\u001b[33m\"\u001b[39m.format(\u001b[38;5;28mtype\u001b[39m(bus)))\n\u001b[32m--> \u001b[39m\u001b[32m310\u001b[39m \u001b[38;5;28mself\u001b[39m.fd = \u001b[43mos\u001b[49m\u001b[43m.\u001b[49m\u001b[43mopen\u001b[49m\u001b[43m(\u001b[49m\u001b[43mfilepath\u001b[49m\u001b[43m,\u001b[49m\u001b[43m \u001b[49m\u001b[43mos\u001b[49m\u001b[43m.\u001b[49m\u001b[43mO_RDWR\u001b[49m\u001b[43m)\u001b[49m\n\u001b[32m    311\u001b[39m \u001b[38;5;28mself\u001b[39m.funcs = \u001b[38;5;28mself\u001b[39m._get_funcs()\n",
      "\u001b[31mFileNotFoundError\u001b[39m: [Errno 2] No such file or directory: '/dev/i2c-2'"
     ]
    }
   ],
   "source": [
    "for i in range(0, 101):\n",
    "    br_ctl.set(i)\n",
    "    time.sleep(0.01)"
   ]
  },
  {
   "cell_type": "markdown",
   "id": "451c5cb0-50ef-4e66-8df7-b86c51457f4c",
   "metadata": {},
   "source": [
    "## Manipulating gamma"
   ]
  },
  {
   "cell_type": "code",
   "execution_count": 1,
   "id": "b65be263-282e-43dd-a1b6-122851976f8e",
   "metadata": {},
   "outputs": [],
   "source": [
    "# ..."
   ]
  },
  {
   "cell_type": "markdown",
   "id": "980caf89-bbff-4b91-9c43-e24cceaea63d",
   "metadata": {},
   "source": [
    "## MPV"
   ]
  },
  {
   "cell_type": "code",
   "execution_count": 6,
   "id": "ec866910-eb6b-4f20-9276-e7a051512f93",
   "metadata": {},
   "outputs": [],
   "source": [
    "mpv_ctl = MPVController()"
   ]
  },
  {
   "cell_type": "code",
   "execution_count": 7,
   "id": "6b5f63d2-2ef2-474e-84ac-693b0653f482",
   "metadata": {},
   "outputs": [],
   "source": [
    "# mpv_ctl.get_property(\"working-directory\")"
   ]
  },
  {
   "cell_type": "code",
   "execution_count": 8,
   "id": "a508a68f-acea-4712-86c6-73f64cae7f21",
   "metadata": {},
   "outputs": [],
   "source": [
    "# mpv_ctl.get_property(\"term-status-msg\")"
   ]
  },
  {
   "cell_type": "code",
   "execution_count": 9,
   "id": "3606525d-4ea4-4488-8bbf-27d2d6dd9be5",
   "metadata": {},
   "outputs": [],
   "source": [
    "# mpv_ctl.socket.recv(1024)"
   ]
  },
  {
   "cell_type": "code",
   "execution_count": 10,
   "id": "0d2db628-cddf-4793-b09d-04d0e65481e6",
   "metadata": {},
   "outputs": [],
   "source": [
    "# problems = []\n",
    "# for i in range(500):\n",
    "#     res = mpv_ctl.load_file(video_fpath)\n",
    "#     if res is not None and res['error'] == 'success':\n",
    "#         continue\n",
    "\n",
    "#     problems.append(i)\n",
    "\n",
    "# print(problems)"
   ]
  },
  {
   "cell_type": "code",
   "execution_count": 142,
   "id": "d226eaec-8b75-4cea-bd91-279115e8a77c",
   "metadata": {},
   "outputs": [
    {
     "data": {
      "text/plain": [
       "{'request_id': 902, 'error': 'success'}"
      ]
     },
     "execution_count": 142,
     "metadata": {},
     "output_type": "execute_result"
    }
   ],
   "source": [
    "mpv_ctl.set_property(\"loop-file\", \"inf\")"
   ]
  },
  {
   "cell_type": "code",
   "execution_count": 21,
   "id": "d79b223c-13b5-46d1-8234-0bc132f4d6de",
   "metadata": {},
   "outputs": [
    {
     "data": {
      "text/plain": [
       "{'data': None, 'request_id': 1, 'error': 'success'}"
      ]
     },
     "execution_count": 21,
     "metadata": {},
     "output_type": "execute_result"
    }
   ],
   "source": [
    "mpv_ctl.clear()"
   ]
  },
  {
   "cell_type": "code",
   "execution_count": 11,
   "id": "a77517aa-d83b-4b4a-af16-9380476a65be",
   "metadata": {},
   "outputs": [
    {
     "data": {
      "text/plain": [
       "{'data': {'playlist_entry_id': 1}, 'request_id': 1, 'error': 'success'}"
      ]
     },
     "execution_count": 11,
     "metadata": {},
     "output_type": "execute_result"
    }
   ],
   "source": [
    "mpv_ctl.load_file(video_fpath)"
   ]
  },
  {
   "cell_type": "code",
   "execution_count": 14,
   "id": "ac4d3b2d-e59c-419d-86db-5c40b8995d2f",
   "metadata": {},
   "outputs": [
    {
     "data": {
      "text/plain": [
       "{'data': 888.48, 'request_id': 4, 'error': 'success'}"
      ]
     },
     "execution_count": 14,
     "metadata": {},
     "output_type": "execute_result"
    }
   ],
   "source": [
    "mpv_ctl.get_property(\"duration\")"
   ]
  },
  {
   "cell_type": "code",
   "execution_count": 15,
   "id": "52b1bf56-aefa-4cd0-8ce1-61b6c081d763",
   "metadata": {},
   "outputs": [
    {
     "data": {
      "text/plain": [
       "{'data': 1, 'request_id': 5, 'error': 'success'}"
      ]
     },
     "execution_count": 15,
     "metadata": {},
     "output_type": "execute_result"
    }
   ],
   "source": [
    "mpv_ctl.get_property(\"playlist/count\")"
   ]
  },
  {
   "cell_type": "code",
   "execution_count": 16,
   "id": "b12c7357-193a-494d-95e9-39d8c3ef37af",
   "metadata": {},
   "outputs": [
    {
     "data": {
      "text/plain": [
       "{'data': '/home/tami/videos/head_on_floor_1920x1080.mp4',\n",
       " 'request_id': 6,\n",
       " 'error': 'success'}"
      ]
     },
     "execution_count": 16,
     "metadata": {},
     "output_type": "execute_result"
    }
   ],
   "source": [
    "mpv_ctl.get_property(\"playlist/0/filename\")"
   ]
  },
  {
   "cell_type": "code",
   "execution_count": 17,
   "id": "42822678-6d47-4d74-bff9-231cd258aae3",
   "metadata": {},
   "outputs": [
    {
     "data": {
      "text/plain": [
       "{'request_id': 7, 'error': 'success'}"
      ]
     },
     "execution_count": 17,
     "metadata": {},
     "output_type": "execute_result"
    }
   ],
   "source": [
    "mpv_ctl.play()"
   ]
  },
  {
   "cell_type": "code",
   "execution_count": 18,
   "id": "78bb03e4-af56-431e-98f1-43d989dfb846",
   "metadata": {},
   "outputs": [
    {
     "data": {
      "text/plain": [
       "{'data': False, 'request_id': 8, 'error': 'success'}"
      ]
     },
     "execution_count": 18,
     "metadata": {},
     "output_type": "execute_result"
    }
   ],
   "source": [
    "mpv_ctl.get_property(\"pause\")"
   ]
  },
  {
   "cell_type": "code",
   "execution_count": 12,
   "id": "66b76659",
   "metadata": {},
   "outputs": [
    {
     "data": {
      "text/plain": [
       "{'request_id': 2, 'error': 'success'}"
      ]
     },
     "execution_count": 12,
     "metadata": {},
     "output_type": "execute_result"
    }
   ],
   "source": [
    "mpv_ctl.pause()"
   ]
  },
  {
   "cell_type": "code",
   "execution_count": 140,
   "id": "6fe5a69f",
   "metadata": {},
   "outputs": [
    {
     "data": {
      "text/plain": [
       "{'data': False, 'request_id': 900, 'error': 'success'}"
      ]
     },
     "execution_count": 140,
     "metadata": {},
     "output_type": "execute_result"
    }
   ],
   "source": [
    "mpv_ctl.get_property(\"pause\")"
   ]
  },
  {
   "cell_type": "code",
   "execution_count": 139,
   "id": "8d183707-aee4-406a-bfe4-718719faf6e6",
   "metadata": {},
   "outputs": [
    {
     "data": {
      "text/plain": [
       "{'data': 4.541583, 'request_id': 899, 'error': 'success'}"
      ]
     },
     "execution_count": 139,
     "metadata": {},
     "output_type": "execute_result"
    }
   ],
   "source": [
    "mpv_ctl.get_property(\"time-pos\")"
   ]
  },
  {
   "cell_type": "code",
   "execution_count": 75,
   "id": "53c86621-86e5-4c63-b381-ead22509c4fd",
   "metadata": {},
   "outputs": [
    {
     "data": {
      "text/plain": [
       "{'data': -0.004625, 'request_id': 634, 'error': 'success'}"
      ]
     },
     "execution_count": 75,
     "metadata": {},
     "output_type": "execute_result"
    }
   ],
   "source": [
    "mpv_ctl.get_property(\"playback-time\")"
   ]
  },
  {
   "cell_type": "code",
   "execution_count": 138,
   "id": "ac7860c2-3f2e-44c6-975c-e9ca5f73ab8f",
   "metadata": {},
   "outputs": [
    {
     "data": {
      "text/plain": [
       "{'data': 9.893542, 'request_id': 898, 'error': 'success'}"
      ]
     },
     "execution_count": 138,
     "metadata": {},
     "output_type": "execute_result"
    }
   ],
   "source": [
    "mpv_ctl.get_property(\"time-remaining\")"
   ]
  },
  {
   "cell_type": "code",
   "execution_count": 137,
   "id": "45526208-6ce1-4bdb-a2bf-8867b16f9a30",
   "metadata": {},
   "outputs": [
    {
     "data": {
      "text/plain": [
       "{'data': 'vo', 'request_id': 897, 'error': 'success'}"
      ]
     },
     "execution_count": 137,
     "metadata": {},
     "output_type": "execute_result"
    }
   ],
   "source": [
    "mpv_ctl.get_property(\"framedrop\")"
   ]
  },
  {
   "cell_type": "code",
   "execution_count": 136,
   "id": "6cda93e3-4db4-4be0-a554-6597787458f6",
   "metadata": {},
   "outputs": [
    {
     "data": {
      "text/plain": [
       "{'data': 4, 'request_id': 896, 'error': 'success'}"
      ]
     },
     "execution_count": 136,
     "metadata": {},
     "output_type": "execute_result"
    }
   ],
   "source": [
    "mpv_ctl.get_property(\"frame-drop-count\")"
   ]
  },
  {
   "cell_type": "code",
   "execution_count": 113,
   "id": "c875ecb0-fcf7-4a0a-b970-dc74f75ad9a8",
   "metadata": {},
   "outputs": [
    {
     "data": {
      "text/plain": [
       "{'data': None, 'request_id': 873, 'error': 'success'}"
      ]
     },
     "execution_count": 113,
     "metadata": {},
     "output_type": "execute_result"
    }
   ],
   "source": [
    "mpv_ctl.seek(0)"
   ]
  },
  {
   "cell_type": "code",
   "execution_count": 116,
   "id": "7bd1df45",
   "metadata": {},
   "outputs": [
    {
     "data": {
      "text/plain": [
       "{'data': 7.87825, 'request_id': 876, 'error': 'success'}"
      ]
     },
     "execution_count": 116,
     "metadata": {},
     "output_type": "execute_result"
    }
   ],
   "source": [
    "mpv_ctl.get_property(\"playback-time\")"
   ]
  },
  {
   "cell_type": "code",
   "execution_count": 110,
   "id": "f5473cc8",
   "metadata": {},
   "outputs": [
    {
     "data": {
      "text/plain": [
       "{'data': 4.012667, 'request_id': 870, 'error': 'success'}"
      ]
     },
     "execution_count": 110,
     "metadata": {},
     "output_type": "execute_result"
    }
   ],
   "source": [
    "mpv_ctl.get_property(\"time-remaining\")"
   ]
  },
  {
   "cell_type": "code",
   "execution_count": 145,
   "id": "d23342e0-b34d-4b09-9f15-f624167a40a6",
   "metadata": {},
   "outputs": [],
   "source": [
    "for i in range(-100, 1):\n",
    "    mpv_ctl.set_brightness(i, osd=True)\n",
    "    time.sleep(0.1)"
   ]
  },
  {
   "cell_type": "code",
   "execution_count": 153,
   "id": "3cbae7ff-6c5b-4182-a11c-6c9e7555669f",
   "metadata": {},
   "outputs": [
    {
     "data": {
      "text/plain": [
       "{'data': 100.0, 'request_id': 115, 'error': 'success'}"
      ]
     },
     "execution_count": 153,
     "metadata": {},
     "output_type": "execute_result"
    }
   ],
   "source": [
    "mpv_ctl.get_property(\"volume\")"
   ]
  },
  {
   "cell_type": "markdown",
   "id": "d340340b-82a7-4296-b0c8-571178e89286",
   "metadata": {},
   "source": [
    "## Controller"
   ]
  },
  {
   "cell_type": "code",
   "execution_count": null,
   "id": "e2c66cce-8306-4373-99f2-bdc1c94a9594",
   "metadata": {},
   "outputs": [],
   "source": [
    "ws = 1\n",
    "dmin = 1000\n",
    "dmax = 2500\n",
    "\n",
    "ctl = Controller(uartdev, ws, dmin, dmax, screen_bus=i2c_num)"
   ]
  },
  {
   "cell_type": "code",
   "execution_count": null,
   "id": "f14c2b58-6965-4233-96b7-3cc40c1fb0c1",
   "metadata": {},
   "outputs": [],
   "source": [
    "ctl.start()"
   ]
  },
  {
   "cell_type": "markdown",
   "id": "e759a135-79d2-4556-bf24-fa869e55d185",
   "metadata": {},
   "source": [
    "## Plotter"
   ]
  },
  {
   "cell_type": "code",
   "execution_count": null,
   "id": "38e90d1f-3717-4b0a-8628-9e377e91474b",
   "metadata": {},
   "outputs": [],
   "source": [
    "p = Plotter(uartdev, ws, dmin, dmax, verbose=True, xmin=-3000, xmax=3000, ymin=-4000)"
   ]
  },
  {
   "cell_type": "code",
   "execution_count": null,
   "id": "2ea69c3a-02aa-484a-bda2-cd5b349da05c",
   "metadata": {},
   "outputs": [],
   "source": [
    "ani = p.start()"
   ]
  },
  {
   "cell_type": "code",
   "execution_count": null,
   "id": "335c73bb-3f46-4634-a943-928e7f4d1c90",
   "metadata": {},
   "outputs": [],
   "source": [
    "HTML(ani.to_jshtml())"
   ]
  },
  {
   "cell_type": "code",
   "execution_count": null,
   "id": "6e8c6aae-1950-4e63-b3d0-85e3ba0cad1a",
   "metadata": {},
   "outputs": [],
   "source": []
  },
  {
   "cell_type": "code",
   "execution_count": null,
   "id": "5b0ed8f5-348b-4b50-aa34-92f68f72239d",
   "metadata": {},
   "outputs": [],
   "source": []
  },
  {
   "cell_type": "code",
   "execution_count": null,
   "id": "f51b4679-0dc6-46d3-b88b-d63f4eaec398",
   "metadata": {},
   "outputs": [],
   "source": []
  }
 ],
 "metadata": {
  "kernelspec": {
   "display_name": "Python 3 (ipykernel)",
   "language": "python",
   "name": "python3"
  },
  "language_info": {
   "codemirror_mode": {
    "name": "ipython",
    "version": 3
   },
   "file_extension": ".py",
   "mimetype": "text/x-python",
   "name": "python",
   "nbconvert_exporter": "python",
   "pygments_lexer": "ipython3",
   "version": "3.11.2"
  }
 },
 "nbformat": 4,
 "nbformat_minor": 5
}
