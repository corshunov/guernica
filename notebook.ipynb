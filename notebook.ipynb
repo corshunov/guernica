{
 "cells": [
  {
   "cell_type": "code",
   "execution_count": 1,
   "id": "926e7206-4c28-4123-8217-fada44e297c8",
   "metadata": {},
   "outputs": [],
   "source": [
    "%load_ext autoreload\n",
    "%autoreload 2"
   ]
  },
  {
   "cell_type": "code",
   "execution_count": 2,
   "id": "a9e0c7a8-4067-4d18-ba4c-eb6f278401d4",
   "metadata": {},
   "outputs": [],
   "source": [
    "import os\n",
    "import sys\n",
    "import time"
   ]
  },
  {
   "cell_type": "code",
   "execution_count": 3,
   "id": "e1e461e8-9dbf-467c-acc5-104c28b3bade",
   "metadata": {},
   "outputs": [],
   "source": [
    "from IPython.display import HTML"
   ]
  },
  {
   "cell_type": "code",
   "execution_count": 4,
   "id": "5e0f3b6b-fe62-4a7b-949d-9b28c76ede73",
   "metadata": {},
   "outputs": [],
   "source": [
    "from brightness_controller import BrightnessController\n",
    "from controller import Controller\n",
    "from mpv import MPVController\n",
    "from radar import LD2450\n",
    "from radar_data_collector import RadarDataCollector\n",
    "from sliding_average import SlidingAverage"
   ]
  },
  {
   "cell_type": "code",
   "execution_count": 5,
   "id": "68ffcba6-cd2f-42cd-b92e-1ea321c5ebc7",
   "metadata": {},
   "outputs": [],
   "source": [
    "video_fpath = \"/home/tami/videos/head_on_floor_1920x1080.mp4\"\n",
    "\n",
    "uartdev = \"/dev/ttyAMA0\"\n",
    "\n",
    "ws = 1\n",
    "dmin = 1000\n",
    "dmax = 2500\n",
    "\n",
    "i2c_num = 2"
   ]
  },
  {
   "cell_type": "markdown",
   "id": "f2efa05c-bc2a-44ca-be54-bac4725feaff",
   "metadata": {},
   "source": [
    "## Sliding average"
   ]
  },
  {
   "cell_type": "code",
   "execution_count": 6,
   "id": "29b56997-0229-4264-b068-580d5926e41e",
   "metadata": {},
   "outputs": [
    {
     "name": "stdout",
     "output_type": "stream",
     "text": [
      " -32 |  -32    0    0    0 |  -32    0    0    0 |  -8.00  -8.00 | yes\n",
      " -42 |  -32  -42    0    0 |  -32  -42    0    0 | -18.50 -18.50 | yes\n",
      "  83 |  -32  -42   83    0 |  -32  -42   83    0 |   2.25   2.25 | yes\n",
      "   8 |  -32  -42   83    8 |  -32  -42   83    8 |   4.25   4.25 | yes\n",
      " -33 |  -42   83    8  -33 |  -33  -42   83    8 |   4.00   4.00 | yes\n",
      "  59 |   83    8  -33   59 |  -33   59   83    8 |  29.25  29.25 | yes\n",
      " -97 |    8  -33   59  -97 |  -33   59  -97    8 | -15.75 -15.75 | yes\n",
      "  52 |  -33   59  -97   52 |  -33   59  -97   52 |  -4.75  -4.75 | yes\n",
      "  68 |   59  -97   52   68 |   68   59  -97   52 |  20.50  20.50 | yes\n",
      "  -4 |  -97   52   68   -4 |   68   -4  -97   52 |   4.75   4.75 | yes\n",
      "  66 |   52   68   -4   66 |   68   -4   66   52 |  45.50  45.50 | yes\n",
      " -50 |   68   -4   66  -50 |   68   -4   66  -50 |  20.00  20.00 | yes\n"
     ]
    }
   ],
   "source": [
    "SlidingAverage.show_check(n=12, ws=4)"
   ]
  },
  {
   "cell_type": "markdown",
   "id": "0889dec1-80e9-4479-b418-ca4df89239bc",
   "metadata": {},
   "source": [
    "## Radar LD2450"
   ]
  },
  {
   "cell_type": "code",
   "execution_count": 11,
   "id": "a2e31558-e52e-447e-a6d4-c0d0eb961411",
   "metadata": {},
   "outputs": [],
   "source": [
    "r = LD2450(uartdev)"
   ]
  },
  {
   "cell_type": "code",
   "execution_count": null,
   "id": "e9b007d0-2959-4a3c-98e4-6a2d2cb2db50",
   "metadata": {},
   "outputs": [],
   "source": [
    "r.set_bluetooth_on(restart=True)"
   ]
  },
  {
   "cell_type": "code",
   "execution_count": null,
   "id": "cff168ce-5e2e-4934-a7fb-597afeadc19a",
   "metadata": {},
   "outputs": [],
   "source": [
    "r.set_multi_tracking()"
   ]
  },
  {
   "cell_type": "code",
   "execution_count": null,
   "id": "9fb9bbba-fb63-477b-a6c6-3f3adc00c179",
   "metadata": {},
   "outputs": [],
   "source": [
    "r.show_info()"
   ]
  },
  {
   "cell_type": "code",
   "execution_count": 12,
   "id": "306ff14a-d490-4709-a03f-afdee0e732e8",
   "metadata": {},
   "outputs": [
    {
     "data": {
      "text/plain": [
       "<radar.LD2450 at 0x6e042fb0>"
      ]
     },
     "execution_count": 12,
     "metadata": {},
     "output_type": "execute_result"
    }
   ],
   "source": [
    "r.test()"
   ]
  },
  {
   "cell_type": "code",
   "execution_count": null,
   "id": "d5ab53a6-82e0-4412-be60-fcf044888a79",
   "metadata": {},
   "outputs": [],
   "source": [
    "r.show_data(20)"
   ]
  },
  {
   "cell_type": "markdown",
   "id": "30da7ca2-bb5c-4d76-b53e-eac5e7dd2f1d",
   "metadata": {},
   "source": [
    "## Radar 2410C"
   ]
  },
  {
   "cell_type": "code",
   "execution_count": 13,
   "id": "5f64e376-2487-418e-a553-8cd1dcd0d370",
   "metadata": {},
   "outputs": [],
   "source": [
    "# ..."
   ]
  },
  {
   "cell_type": "markdown",
   "id": "1d623a83-03b4-4a0a-a82f-86faed07ab3d",
   "metadata": {},
   "source": [
    "## Radar 2461"
   ]
  },
  {
   "cell_type": "markdown",
   "id": "8ea3fc9a-610c-4bbd-a9c5-a2556c356637",
   "metadata": {},
   "source": [
    "## Radar data collector"
   ]
  },
  {
   "cell_type": "code",
   "execution_count": 21,
   "id": "bb260c5e-30d6-4699-aaa8-bf4bf307c0f3",
   "metadata": {},
   "outputs": [
    {
     "ename": "TypeError",
     "evalue": "RadarDataCollector.__init__() missing 1 required positional argument: 'uartdev'",
     "output_type": "error",
     "traceback": [
      "\u001b[31m---------------------------------------------------------------------------\u001b[39m",
      "\u001b[31mTypeError\u001b[39m                                 Traceback (most recent call last)",
      "\u001b[36mCell\u001b[39m\u001b[36m \u001b[39m\u001b[32mIn[21]\u001b[39m\u001b[32m, line 1\u001b[39m\n\u001b[32m----> \u001b[39m\u001b[32m1\u001b[39m rdc = \u001b[43mRadarDataCollector\u001b[49m\u001b[43m(\u001b[49m\u001b[43m)\u001b[49m\n",
      "\u001b[31mTypeError\u001b[39m: RadarDataCollector.__init__() missing 1 required positional argument: 'uartdev'"
     ]
    }
   ],
   "source": [
    "rdc = RadarDataCollector(uartdev)"
   ]
  },
  {
   "cell_type": "markdown",
   "id": "754a6546-e039-4501-aebd-ab2799489f2c",
   "metadata": {},
   "source": [
    "## Camera"
   ]
  },
  {
   "cell_type": "code",
   "execution_count": 15,
   "id": "4114f2fc-f9ad-424e-9d96-6d083af059fe",
   "metadata": {},
   "outputs": [],
   "source": [
    "# ..."
   ]
  },
  {
   "cell_type": "markdown",
   "id": "53df639b-1ddc-4b2f-acd6-45060bf7a63c",
   "metadata": {},
   "source": [
    "## Direct brightness"
   ]
  },
  {
   "cell_type": "code",
   "execution_count": 5,
   "id": "a50f7e8b-832d-42d3-851d-b4048faacc7c",
   "metadata": {},
   "outputs": [],
   "source": [
    "br_ctl = BrightnessController(i2c_num)"
   ]
  },
  {
   "cell_type": "code",
   "execution_count": 9,
   "id": "40d1fd77-400d-4eb0-a1e8-4855709328cf",
   "metadata": {},
   "outputs": [],
   "source": [
    "for i in range(0, 101):\n",
    "    br_ctl.set(i)\n",
    "    time.sleep(0.01)"
   ]
  },
  {
   "cell_type": "markdown",
   "id": "451c5cb0-50ef-4e66-8df7-b86c51457f4c",
   "metadata": {},
   "source": [
    "## Manipulating gamma"
   ]
  },
  {
   "cell_type": "code",
   "execution_count": 1,
   "id": "b65be263-282e-43dd-a1b6-122851976f8e",
   "metadata": {},
   "outputs": [],
   "source": [
    "# ..."
   ]
  },
  {
   "cell_type": "markdown",
   "id": "980caf89-bbff-4b91-9c43-e24cceaea63d",
   "metadata": {},
   "source": [
    "## MPV"
   ]
  },
  {
   "cell_type": "code",
   "execution_count": 6,
   "id": "ec866910-eb6b-4f20-9276-e7a051512f93",
   "metadata": {},
   "outputs": [],
   "source": [
    "mpv_ctl = MPVController()"
   ]
  },
  {
   "cell_type": "code",
   "execution_count": 7,
   "id": "6b5f63d2-2ef2-474e-84ac-693b0653f482",
   "metadata": {},
   "outputs": [],
   "source": [
    "# mpv_ctl.get_property(\"working-directory\")"
   ]
  },
  {
   "cell_type": "code",
   "execution_count": 8,
   "id": "a508a68f-acea-4712-86c6-73f64cae7f21",
   "metadata": {},
   "outputs": [],
   "source": [
    "# mpv_ctl.get_property(\"term-status-msg\")"
   ]
  },
  {
   "cell_type": "code",
   "execution_count": 9,
   "id": "3606525d-4ea4-4488-8bbf-27d2d6dd9be5",
   "metadata": {},
   "outputs": [],
   "source": [
    "# mpv_ctl.socket.recv(1024)"
   ]
  },
  {
   "cell_type": "code",
   "execution_count": 10,
   "id": "0d2db628-cddf-4793-b09d-04d0e65481e6",
   "metadata": {},
   "outputs": [],
   "source": [
    "# problems = []\n",
    "# for i in range(500):\n",
    "#     res = mpv_ctl.load_file(video_fpath)\n",
    "#     if res is not None and res['error'] == 'success':\n",
    "#         continue\n",
    "\n",
    "#     problems.append(i)\n",
    "\n",
    "# print(problems)"
   ]
  },
  {
   "cell_type": "code",
   "execution_count": 142,
   "id": "d226eaec-8b75-4cea-bd91-279115e8a77c",
   "metadata": {},
   "outputs": [
    {
     "data": {
      "text/plain": [
       "{'request_id': 902, 'error': 'success'}"
      ]
     },
     "execution_count": 142,
     "metadata": {},
     "output_type": "execute_result"
    }
   ],
   "source": [
    "mpv_ctl.set_property(\"loop-file\", \"inf\")"
   ]
  },
  {
   "cell_type": "code",
   "execution_count": 21,
   "id": "d79b223c-13b5-46d1-8234-0bc132f4d6de",
   "metadata": {},
   "outputs": [
    {
     "data": {
      "text/plain": [
       "{'data': None, 'request_id': 1, 'error': 'success'}"
      ]
     },
     "execution_count": 21,
     "metadata": {},
     "output_type": "execute_result"
    }
   ],
   "source": [
    "mpv_ctl.clear()"
   ]
  },
  {
   "cell_type": "code",
   "execution_count": 11,
   "id": "a77517aa-d83b-4b4a-af16-9380476a65be",
   "metadata": {},
   "outputs": [
    {
     "data": {
      "text/plain": [
       "{'data': {'playlist_entry_id': 1}, 'request_id': 1, 'error': 'success'}"
      ]
     },
     "execution_count": 11,
     "metadata": {},
     "output_type": "execute_result"
    }
   ],
   "source": [
    "mpv_ctl.load_file(video_fpath)"
   ]
  },
  {
   "cell_type": "code",
   "execution_count": 14,
   "id": "ac4d3b2d-e59c-419d-86db-5c40b8995d2f",
   "metadata": {},
   "outputs": [
    {
     "data": {
      "text/plain": [
       "{'data': 888.48, 'request_id': 4, 'error': 'success'}"
      ]
     },
     "execution_count": 14,
     "metadata": {},
     "output_type": "execute_result"
    }
   ],
   "source": [
    "mpv_ctl.get_property(\"duration\")"
   ]
  },
  {
   "cell_type": "code",
   "execution_count": 15,
   "id": "52b1bf56-aefa-4cd0-8ce1-61b6c081d763",
   "metadata": {},
   "outputs": [
    {
     "data": {
      "text/plain": [
       "{'data': 1, 'request_id': 5, 'error': 'success'}"
      ]
     },
     "execution_count": 15,
     "metadata": {},
     "output_type": "execute_result"
    }
   ],
   "source": [
    "mpv_ctl.get_property(\"playlist/count\")"
   ]
  },
  {
   "cell_type": "code",
   "execution_count": 16,
   "id": "b12c7357-193a-494d-95e9-39d8c3ef37af",
   "metadata": {},
   "outputs": [
    {
     "data": {
      "text/plain": [
       "{'data': '/home/tami/videos/head_on_floor_1920x1080.mp4',\n",
       " 'request_id': 6,\n",
       " 'error': 'success'}"
      ]
     },
     "execution_count": 16,
     "metadata": {},
     "output_type": "execute_result"
    }
   ],
   "source": [
    "mpv_ctl.get_property(\"playlist/0/filename\")"
   ]
  },
  {
   "cell_type": "code",
   "execution_count": 17,
   "id": "42822678-6d47-4d74-bff9-231cd258aae3",
   "metadata": {},
   "outputs": [
    {
     "data": {
      "text/plain": [
       "{'request_id': 7, 'error': 'success'}"
      ]
     },
     "execution_count": 17,
     "metadata": {},
     "output_type": "execute_result"
    }
   ],
   "source": [
    "mpv_ctl.play()"
   ]
  },
  {
   "cell_type": "code",
   "execution_count": 18,
   "id": "78bb03e4-af56-431e-98f1-43d989dfb846",
   "metadata": {},
   "outputs": [
    {
     "data": {
      "text/plain": [
       "{'data': False, 'request_id': 8, 'error': 'success'}"
      ]
     },
     "execution_count": 18,
     "metadata": {},
     "output_type": "execute_result"
    }
   ],
   "source": [
    "mpv_ctl.get_property(\"pause\")"
   ]
  },
  {
   "cell_type": "code",
   "execution_count": 12,
   "id": "66b76659",
   "metadata": {},
   "outputs": [
    {
     "data": {
      "text/plain": [
       "{'request_id': 2, 'error': 'success'}"
      ]
     },
     "execution_count": 12,
     "metadata": {},
     "output_type": "execute_result"
    }
   ],
   "source": [
    "mpv_ctl.pause()"
   ]
  },
  {
   "cell_type": "code",
   "execution_count": 140,
   "id": "6fe5a69f",
   "metadata": {},
   "outputs": [
    {
     "data": {
      "text/plain": [
       "{'data': False, 'request_id': 900, 'error': 'success'}"
      ]
     },
     "execution_count": 140,
     "metadata": {},
     "output_type": "execute_result"
    }
   ],
   "source": [
    "mpv_ctl.get_property(\"pause\")"
   ]
  },
  {
   "cell_type": "code",
   "execution_count": 139,
   "id": "8d183707-aee4-406a-bfe4-718719faf6e6",
   "metadata": {},
   "outputs": [
    {
     "data": {
      "text/plain": [
       "{'data': 4.541583, 'request_id': 899, 'error': 'success'}"
      ]
     },
     "execution_count": 139,
     "metadata": {},
     "output_type": "execute_result"
    }
   ],
   "source": [
    "mpv_ctl.get_property(\"time-pos\")"
   ]
  },
  {
   "cell_type": "code",
   "execution_count": 75,
   "id": "53c86621-86e5-4c63-b381-ead22509c4fd",
   "metadata": {},
   "outputs": [
    {
     "data": {
      "text/plain": [
       "{'data': -0.004625, 'request_id': 634, 'error': 'success'}"
      ]
     },
     "execution_count": 75,
     "metadata": {},
     "output_type": "execute_result"
    }
   ],
   "source": [
    "mpv_ctl.get_property(\"playback-time\")"
   ]
  },
  {
   "cell_type": "code",
   "execution_count": 138,
   "id": "ac7860c2-3f2e-44c6-975c-e9ca5f73ab8f",
   "metadata": {},
   "outputs": [
    {
     "data": {
      "text/plain": [
       "{'data': 9.893542, 'request_id': 898, 'error': 'success'}"
      ]
     },
     "execution_count": 138,
     "metadata": {},
     "output_type": "execute_result"
    }
   ],
   "source": [
    "mpv_ctl.get_property(\"time-remaining\")"
   ]
  },
  {
   "cell_type": "code",
   "execution_count": 137,
   "id": "45526208-6ce1-4bdb-a2bf-8867b16f9a30",
   "metadata": {},
   "outputs": [
    {
     "data": {
      "text/plain": [
       "{'data': 'vo', 'request_id': 897, 'error': 'success'}"
      ]
     },
     "execution_count": 137,
     "metadata": {},
     "output_type": "execute_result"
    }
   ],
   "source": [
    "mpv_ctl.get_property(\"framedrop\")"
   ]
  },
  {
   "cell_type": "code",
   "execution_count": 136,
   "id": "6cda93e3-4db4-4be0-a554-6597787458f6",
   "metadata": {},
   "outputs": [
    {
     "data": {
      "text/plain": [
       "{'data': 4, 'request_id': 896, 'error': 'success'}"
      ]
     },
     "execution_count": 136,
     "metadata": {},
     "output_type": "execute_result"
    }
   ],
   "source": [
    "mpv_ctl.get_property(\"frame-drop-count\")"
   ]
  },
  {
   "cell_type": "code",
   "execution_count": 113,
   "id": "c875ecb0-fcf7-4a0a-b970-dc74f75ad9a8",
   "metadata": {},
   "outputs": [
    {
     "data": {
      "text/plain": [
       "{'data': None, 'request_id': 873, 'error': 'success'}"
      ]
     },
     "execution_count": 113,
     "metadata": {},
     "output_type": "execute_result"
    }
   ],
   "source": [
    "mpv_ctl.seek(0)"
   ]
  },
  {
   "cell_type": "code",
   "execution_count": 116,
   "id": "7bd1df45",
   "metadata": {},
   "outputs": [
    {
     "data": {
      "text/plain": [
       "{'data': 7.87825, 'request_id': 876, 'error': 'success'}"
      ]
     },
     "execution_count": 116,
     "metadata": {},
     "output_type": "execute_result"
    }
   ],
   "source": [
    "mpv_ctl.get_property(\"playback-time\")"
   ]
  },
  {
   "cell_type": "code",
   "execution_count": 110,
   "id": "f5473cc8",
   "metadata": {},
   "outputs": [
    {
     "data": {
      "text/plain": [
       "{'data': 4.012667, 'request_id': 870, 'error': 'success'}"
      ]
     },
     "execution_count": 110,
     "metadata": {},
     "output_type": "execute_result"
    }
   ],
   "source": [
    "mpv_ctl.get_property(\"time-remaining\")"
   ]
  },
  {
   "cell_type": "code",
   "execution_count": 145,
   "id": "d23342e0-b34d-4b09-9f15-f624167a40a6",
   "metadata": {},
   "outputs": [],
   "source": [
    "for i in range(-100, 1):\n",
    "    mpv_ctl.set_brightness(i, osd=True)\n",
    "    time.sleep(0.1)"
   ]
  },
  {
   "cell_type": "code",
   "execution_count": 153,
   "id": "3cbae7ff-6c5b-4182-a11c-6c9e7555669f",
   "metadata": {},
   "outputs": [
    {
     "data": {
      "text/plain": [
       "{'data': 100.0, 'request_id': 115, 'error': 'success'}"
      ]
     },
     "execution_count": 153,
     "metadata": {},
     "output_type": "execute_result"
    }
   ],
   "source": [
    "mpv_ctl.get_property(\"volume\")"
   ]
  },
  {
   "cell_type": "markdown",
   "id": "d340340b-82a7-4296-b0c8-571178e89286",
   "metadata": {},
   "source": [
    "## Controller"
   ]
  },
  {
   "cell_type": "code",
   "execution_count": null,
   "id": "e2c66cce-8306-4373-99f2-bdc1c94a9594",
   "metadata": {},
   "outputs": [],
   "source": [
    "ctl = Controller(uartdev, ws, dmin, dmax, screen_bus=i2c_num)"
   ]
  },
  {
   "cell_type": "code",
   "execution_count": null,
   "id": "f14c2b58-6965-4233-96b7-3cc40c1fb0c1",
   "metadata": {},
   "outputs": [],
   "source": [
    "ctl.start()"
   ]
  },
  {
   "cell_type": "markdown",
   "id": "e759a135-79d2-4556-bf24-fa869e55d185",
   "metadata": {},
   "source": [
    "## Plotter"
   ]
  },
  {
   "cell_type": "code",
   "execution_count": null,
   "id": "38e90d1f-3717-4b0a-8628-9e377e91474b",
   "metadata": {},
   "outputs": [],
   "source": [
    "p = Plotter(uartdev, ws, dmin, dmax, verbose=True, xmin=-3000, xmax=3000, ymin=-4000)"
   ]
  },
  {
   "cell_type": "code",
   "execution_count": null,
   "id": "2ea69c3a-02aa-484a-bda2-cd5b349da05c",
   "metadata": {},
   "outputs": [],
   "source": [
    "ani = p.start()"
   ]
  },
  {
   "cell_type": "code",
   "execution_count": null,
   "id": "335c73bb-3f46-4634-a943-928e7f4d1c90",
   "metadata": {},
   "outputs": [],
   "source": [
    "HTML(ani.to_jshtml())"
   ]
  },
  {
   "cell_type": "code",
   "execution_count": null,
   "id": "6e8c6aae-1950-4e63-b3d0-85e3ba0cad1a",
   "metadata": {},
   "outputs": [],
   "source": []
  },
  {
   "cell_type": "code",
   "execution_count": null,
   "id": "5b0ed8f5-348b-4b50-aa34-92f68f72239d",
   "metadata": {},
   "outputs": [],
   "source": []
  },
  {
   "cell_type": "code",
   "execution_count": null,
   "id": "f51b4679-0dc6-46d3-b88b-d63f4eaec398",
   "metadata": {},
   "outputs": [],
   "source": []
  }
 ],
 "metadata": {
  "kernelspec": {
   "display_name": "Python 3 (ipykernel)",
   "language": "python",
   "name": "python3"
  },
  "language_info": {
   "codemirror_mode": {
    "name": "ipython",
    "version": 3
   },
   "file_extension": ".py",
   "mimetype": "text/x-python",
   "name": "python",
   "nbconvert_exporter": "python",
   "pygments_lexer": "ipython3",
   "version": "3.11.2"
  }
 },
 "nbformat": 4,
 "nbformat_minor": 5
}
