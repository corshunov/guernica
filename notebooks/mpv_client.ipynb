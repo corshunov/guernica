{
 "cells": [
  {
   "cell_type": "code",
   "execution_count": 1,
   "id": "926e7206-4c28-4123-8217-fada44e297c8",
   "metadata": {},
   "outputs": [],
   "source": [
    "%load_ext autoreload\n",
    "%autoreload 2"
   ]
  },
  {
   "cell_type": "code",
   "execution_count": 2,
   "id": "a9e0c7a8-4067-4d18-ba4c-eb6f278401d4",
   "metadata": {},
   "outputs": [],
   "source": [
    "import time"
   ]
  },
  {
   "cell_type": "code",
   "execution_count": null,
   "id": "11ca8f46-a7a7-4bb9-9496-d77773690319",
   "metadata": {},
   "outputs": [],
   "source": [
    "import numpy as np\n",
    "import matplotlib.pyplot as plt"
   ]
  },
  {
   "cell_type": "code",
   "execution_count": 3,
   "id": "5e0f3b6b-fe62-4a7b-949d-9b28c76ede73",
   "metadata": {},
   "outputs": [],
   "source": [
    "from mpv import MPVController"
   ]
  },
  {
   "cell_type": "markdown",
   "id": "980caf89-bbff-4b91-9c43-e24cceaea63d",
   "metadata": {},
   "source": [
    "## MPV"
   ]
  },
  {
   "cell_type": "code",
   "execution_count": 4,
   "id": "ec866910-eb6b-4f20-9276-e7a051512f93",
   "metadata": {},
   "outputs": [],
   "source": [
    "mpv_ctl = MPVController()"
   ]
  },
  {
   "cell_type": "code",
   "execution_count": 5,
   "id": "6b5f63d2-2ef2-474e-84ac-693b0653f482",
   "metadata": {},
   "outputs": [],
   "source": [
    "# mpv_ctl.get_property(\"working-directory\")\n",
    "# mpv_ctl.get_property(\"term-status-msg\")\n",
    "\n",
    "# mpv_ctl.set_property(\"loop-file\", \"inf\")\n",
    "# mpv_ctl.clear()\n",
    "# mpv_ctl.load_file(video_fpath)"
   ]
  },
  {
   "cell_type": "code",
   "execution_count": 7,
   "id": "3606525d-4ea4-4488-8bbf-27d2d6dd9be5",
   "metadata": {},
   "outputs": [],
   "source": [
    "# mpv_ctl.socket.recv(1024)"
   ]
  },
  {
   "cell_type": "code",
   "execution_count": 12,
   "id": "ac4d3b2d-e59c-419d-86db-5c40b8995d2f",
   "metadata": {},
   "outputs": [
    {
     "data": {
      "text/plain": [
       "{'data': 888.48, 'request_id': 1, 'error': 'success'}"
      ]
     },
     "execution_count": 12,
     "metadata": {},
     "output_type": "execute_result"
    }
   ],
   "source": [
    "mpv_ctl.get_property(\"duration\")"
   ]
  },
  {
   "cell_type": "code",
   "execution_count": 13,
   "id": "52b1bf56-aefa-4cd0-8ce1-61b6c081d763",
   "metadata": {},
   "outputs": [
    {
     "data": {
      "text/plain": [
       "{'data': 1, 'request_id': 2, 'error': 'success'}"
      ]
     },
     "execution_count": 13,
     "metadata": {},
     "output_type": "execute_result"
    }
   ],
   "source": [
    "mpv_ctl.get_property(\"playlist/count\")"
   ]
  },
  {
   "cell_type": "code",
   "execution_count": 14,
   "id": "b12c7357-193a-494d-95e9-39d8c3ef37af",
   "metadata": {},
   "outputs": [
    {
     "data": {
      "text/plain": [
       "{'data': '/home/tami/videos/head_on_floor_1920x1080.mp4',\n",
       " 'request_id': 3,\n",
       " 'error': 'success'}"
      ]
     },
     "execution_count": 14,
     "metadata": {},
     "output_type": "execute_result"
    }
   ],
   "source": [
    "mpv_ctl.get_property(\"playlist/0/filename\")"
   ]
  },
  {
   "cell_type": "code",
   "execution_count": 23,
   "id": "42822678-6d47-4d74-bff9-231cd258aae3",
   "metadata": {},
   "outputs": [],
   "source": [
    "# mpv_ctl.play()\n",
    "# mpv_ctl.get_property(\"pause\")"
   ]
  },
  {
   "cell_type": "code",
   "execution_count": 21,
   "id": "66b76659",
   "metadata": {},
   "outputs": [],
   "source": [
    "# mpv_ctl.pause()\n",
    "# mpv_ctl.get_property(\"pause\")"
   ]
  },
  {
   "cell_type": "code",
   "execution_count": 24,
   "id": "8d183707-aee4-406a-bfe4-718719faf6e6",
   "metadata": {},
   "outputs": [
    {
     "data": {
      "text/plain": [
       "{'data': 264.68, 'request_id': 10, 'error': 'success'}"
      ]
     },
     "execution_count": 24,
     "metadata": {},
     "output_type": "execute_result"
    }
   ],
   "source": [
    "mpv_ctl.get_property(\"time-pos\")"
   ]
  },
  {
   "cell_type": "code",
   "execution_count": 25,
   "id": "53c86621-86e5-4c63-b381-ead22509c4fd",
   "metadata": {},
   "outputs": [
    {
     "data": {
      "text/plain": [
       "{'data': 268.0, 'request_id': 11, 'error': 'success'}"
      ]
     },
     "execution_count": 25,
     "metadata": {},
     "output_type": "execute_result"
    }
   ],
   "source": [
    "mpv_ctl.get_property(\"playback-time\")"
   ]
  },
  {
   "cell_type": "code",
   "execution_count": 26,
   "id": "ac7860c2-3f2e-44c6-975c-e9ca5f73ab8f",
   "metadata": {},
   "outputs": [
    {
     "data": {
      "text/plain": [
       "{'data': 615.64, 'request_id': 12, 'error': 'success'}"
      ]
     },
     "execution_count": 26,
     "metadata": {},
     "output_type": "execute_result"
    }
   ],
   "source": [
    "mpv_ctl.get_property(\"time-remaining\")"
   ]
  },
  {
   "cell_type": "code",
   "execution_count": 28,
   "id": "45526208-6ce1-4bdb-a2bf-8867b16f9a30",
   "metadata": {},
   "outputs": [],
   "source": [
    "# mpv_ctl.get_property(\"framedrop\")"
   ]
  },
  {
   "cell_type": "code",
   "execution_count": 31,
   "id": "6cda93e3-4db4-4be0-a554-6597787458f6",
   "metadata": {},
   "outputs": [],
   "source": [
    "# mpv_ctl.get_property(\"frame-drop-count\")"
   ]
  },
  {
   "cell_type": "code",
   "execution_count": 32,
   "id": "c875ecb0-fcf7-4a0a-b970-dc74f75ad9a8",
   "metadata": {},
   "outputs": [],
   "source": [
    "# mpv_ctl.seek(0)"
   ]
  },
  {
   "cell_type": "code",
   "execution_count": 43,
   "id": "d23342e0-b34d-4b09-9f15-f624167a40a6",
   "metadata": {
    "scrolled": true
   },
   "outputs": [
    {
     "name": "stdout",
     "output_type": "stream",
     "text": [
      "0\n",
      "1\n",
      "2\n",
      "3\n",
      "4\n",
      "5\n",
      "6\n",
      "7\n",
      "8\n",
      "9\n",
      "10\n",
      "11\n",
      "12\n",
      "13\n",
      "14\n",
      "15\n",
      "16\n",
      "17\n",
      "18\n",
      "19\n",
      "20\n",
      "21\n",
      "22\n",
      "23\n",
      "24\n",
      "25\n",
      "26\n",
      "27\n",
      "28\n",
      "29\n",
      "30\n",
      "31\n",
      "32\n",
      "33\n",
      "34\n",
      "35\n",
      "36\n",
      "37\n",
      "38\n",
      "39\n",
      "40\n",
      "41\n",
      "42\n",
      "43\n",
      "44\n",
      "45\n",
      "46\n",
      "47\n",
      "48\n",
      "49\n",
      "50\n",
      "51\n",
      "52\n",
      "53\n",
      "54\n",
      "55\n",
      "56\n",
      "57\n",
      "58\n",
      "59\n",
      "60\n",
      "61\n",
      "62\n",
      "63\n",
      "64\n",
      "65\n",
      "66\n",
      "67\n",
      "68\n",
      "69\n",
      "70\n",
      "71\n",
      "72\n",
      "73\n",
      "74\n",
      "75\n",
      "76\n",
      "77\n",
      "78\n",
      "79\n",
      "80\n",
      "81\n",
      "82\n",
      "83\n",
      "84\n",
      "85\n",
      "86\n",
      "87\n",
      "88\n",
      "89\n",
      "90\n",
      "91\n",
      "92\n",
      "93\n",
      "94\n",
      "95\n",
      "96\n",
      "97\n",
      "98\n",
      "99\n",
      "100\n"
     ]
    }
   ],
   "source": [
    "for i in range(0, 101):\n",
    "    print(i)\n",
    "    \n",
    "    mpv_ctl.set_drm_brightness(v, osd=True)\n",
    "    time.sleep(0.1)"
   ]
  },
  {
   "cell_type": "code",
   "execution_count": null,
   "id": "34553560-601d-4530-8c7a-1ec06dcb2c16",
   "metadata": {},
   "outputs": [],
   "source": [
    "# Number of steps\n",
    "num_steps = 100\n",
    "\n",
    "# Define the threshold where the curve steepens\n",
    "threshold = 5000\n",
    "\n",
    "# Generate linearly spaced values from 0 to 65536\n",
    "x = np.linspace(0, 65536, num_steps)\n",
    "\n",
    "# Define the curve using a piecewise function\n",
    "y = np.piecewise(x, \n",
    "                 [x < threshold, x >= threshold], \n",
    "                 [lambda x: (x / threshold)**2 * 5000,  # Gentle slope at the beginning\n",
    "                  lambda x: 5000 + (x - threshold) / (65536 - threshold) * (65536 - 5000)])  # Steepening slope after threshold\n",
    "\n",
    "# Plotting the curve\n",
    "plt.plot(x, y)\n",
    "plt.title('Smooth Curve with Gentle Start and Steep Increase After 5000')\n",
    "plt.xlabel('X')\n",
    "plt.ylabel('Y')\n",
    "plt.grid(True)\n",
    "plt.show()"
   ]
  },
  {
   "cell_type": "code",
   "execution_count": null,
   "id": "dfcd2791-4070-478a-b72c-864296c27b85",
   "metadata": {},
   "outputs": [],
   "source": []
  },
  {
   "cell_type": "code",
   "execution_count": null,
   "id": "9bfe49be-e742-4627-a0d2-854a45511db6",
   "metadata": {},
   "outputs": [],
   "source": []
  },
  {
   "cell_type": "code",
   "execution_count": 153,
   "id": "3cbae7ff-6c5b-4182-a11c-6c9e7555669f",
   "metadata": {},
   "outputs": [
    {
     "data": {
      "text/plain": [
       "{'data': 100.0, 'request_id': 115, 'error': 'success'}"
      ]
     },
     "execution_count": 153,
     "metadata": {},
     "output_type": "execute_result"
    }
   ],
   "source": [
    "mpv_ctl.get_property(\"volume\")"
   ]
  },
  {
   "cell_type": "code",
   "execution_count": null,
   "id": "6e8c6aae-1950-4e63-b3d0-85e3ba0cad1a",
   "metadata": {},
   "outputs": [],
   "source": []
  },
  {
   "cell_type": "code",
   "execution_count": null,
   "id": "5b0ed8f5-348b-4b50-aa34-92f68f72239d",
   "metadata": {},
   "outputs": [],
   "source": []
  },
  {
   "cell_type": "code",
   "execution_count": null,
   "id": "f51b4679-0dc6-46d3-b88b-d63f4eaec398",
   "metadata": {},
   "outputs": [],
   "source": []
  }
 ],
 "metadata": {
  "kernelspec": {
   "display_name": "Python 3 (ipykernel)",
   "language": "python",
   "name": "python3"
  },
  "language_info": {
   "codemirror_mode": {
    "name": "ipython",
    "version": 3
   },
   "file_extension": ".py",
   "mimetype": "text/x-python",
   "name": "python",
   "nbconvert_exporter": "python",
   "pygments_lexer": "ipython3",
   "version": "3.11.2"
  }
 },
 "nbformat": 4,
 "nbformat_minor": 5
}
