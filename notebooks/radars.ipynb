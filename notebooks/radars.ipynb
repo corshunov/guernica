{
 "cells": [
  {
   "cell_type": "code",
   "execution_count": 1,
   "id": "926e7206-4c28-4123-8217-fada44e297c8",
   "metadata": {},
   "outputs": [],
   "source": [
    "%load_ext autoreload\n",
    "%autoreload 2"
   ]
  },
  {
   "cell_type": "code",
   "execution_count": 2,
   "id": "a9e0c7a8-4067-4d18-ba4c-eb6f278401d4",
   "metadata": {},
   "outputs": [],
   "source": [
    "import time"
   ]
  },
  {
   "cell_type": "code",
   "execution_count": 4,
   "id": "5e0f3b6b-fe62-4a7b-949d-9b28c76ede73",
   "metadata": {},
   "outputs": [],
   "source": [
    "from radar import LD2450\n",
    "from radar_data_collector import RadarDataCollector"
   ]
  },
  {
   "cell_type": "code",
   "execution_count": 5,
   "id": "68ffcba6-cd2f-42cd-b92e-1ea321c5ebc7",
   "metadata": {},
   "outputs": [],
   "source": [
    "#uartdev = \"/dev/ttyS0\"\n",
    "uartdev = \"/dev/tty.usbserial-14410\""
   ]
  },
  {
   "cell_type": "markdown",
   "id": "0889dec1-80e9-4479-b418-ca4df89239bc",
   "metadata": {},
   "source": [
    "## Radar LD2450"
   ]
  },
  {
   "cell_type": "code",
   "execution_count": 51,
   "id": "a2e31558-e52e-447e-a6d4-c0d0eb961411",
   "metadata": {
    "scrolled": true
   },
   "outputs": [],
   "source": [
    "r = LD2450(uartdev)"
   ]
  },
  {
   "cell_type": "code",
   "execution_count": 52,
   "id": "a3404092-8216-4381-a15b-8a3d01a0b4a5",
   "metadata": {},
   "outputs": [
    {
     "data": {
      "text/plain": [
       "'/dev/tty.usbserial-14410'"
      ]
     },
     "execution_count": 52,
     "metadata": {},
     "output_type": "execute_result"
    }
   ],
   "source": [
    "r.uartdev"
   ]
  },
  {
   "cell_type": "code",
   "execution_count": 157,
   "id": "1563c859-2c26-4b52-968c-0920e46d0599",
   "metadata": {},
   "outputs": [
    {
     "data": {
      "text/plain": [
       "False"
      ]
     },
     "execution_count": 157,
     "metadata": {},
     "output_type": "execute_result"
    }
   ],
   "source": [
    "r.verbose"
   ]
  },
  {
   "cell_type": "code",
   "execution_count": 177,
   "id": "8bdd1d71-8237-4b7b-95cd-5e05aecbf158",
   "metadata": {},
   "outputs": [
    {
     "name": "stdout",
     "output_type": "stream",
     "text": [
      "0\n",
      "0\n"
     ]
    }
   ],
   "source": [
    "print(r.in_waiting)\n",
    "r.clean()\n",
    "print(r.in_waiting)"
   ]
  },
  {
   "cell_type": "code",
   "execution_count": 159,
   "id": "e73f060a-985f-4a77-8cb4-a223ec813144",
   "metadata": {},
   "outputs": [
    {
     "name": "stdout",
     "output_type": "stream",
     "text": [
      "1.1) Failed to start configuration\n",
      "No header in response to cmd '00 FF'.\n"
     ]
    }
   ],
   "source": [
    "r.restart()"
   ]
  },
  {
   "cell_type": "code",
   "execution_count": 178,
   "id": "19420dba-b1f5-471a-bb78-9c98da5b2a44",
   "metadata": {},
   "outputs": [
    {
     "data": {
      "text/plain": [
       "'V2.04.23101915'"
      ]
     },
     "execution_count": 178,
     "metadata": {},
     "output_type": "execute_result"
    }
   ],
   "source": [
    "r.get_firmware_version()"
   ]
  },
  {
   "cell_type": "code",
   "execution_count": 179,
   "id": "0049a98a-daa4-49f9-b29e-87dd73f267ed",
   "metadata": {},
   "outputs": [
    {
     "data": {
      "text/plain": [
       "'F8 38 08 8E BB CB'"
      ]
     },
     "execution_count": 179,
     "metadata": {},
     "output_type": "execute_result"
    }
   ],
   "source": [
    "r.get_mac_address()"
   ]
  },
  {
   "cell_type": "code",
   "execution_count": 180,
   "id": "2c502da6-2785-4036-8dc2-5bb7a591c2d1",
   "metadata": {},
   "outputs": [
    {
     "data": {
      "text/plain": [
       "True"
      ]
     },
     "execution_count": 180,
     "metadata": {},
     "output_type": "execute_result"
    }
   ],
   "source": [
    "r.get_bluetooth_state()"
   ]
  },
  {
   "cell_type": "code",
   "execution_count": 181,
   "id": "da24acf0-08f8-4e11-86e1-14f3fd6a1d04",
   "metadata": {},
   "outputs": [
    {
     "data": {
      "text/plain": [
       "2"
      ]
     },
     "execution_count": 181,
     "metadata": {},
     "output_type": "execute_result"
    }
   ],
   "source": [
    "r.get_tracking_mode()"
   ]
  },
  {
   "cell_type": "code",
   "execution_count": 182,
   "id": "09647d4a-bdfb-4956-90a3-4a51fa6f9784",
   "metadata": {},
   "outputs": [
    {
     "data": {
      "text/plain": [
       "[0, 0, 0, 0, 0, 0, 0, 0, 0, 0, 0, 0, 0]"
      ]
     },
     "execution_count": 182,
     "metadata": {},
     "output_type": "execute_result"
    }
   ],
   "source": [
    "r.get_zone_filtering()"
   ]
  },
  {
   "cell_type": "code",
   "execution_count": 183,
   "id": "bfcc45a4-c23d-4e8b-8dd1-83046b377a97",
   "metadata": {},
   "outputs": [
    {
     "name": "stdout",
     "output_type": "stream",
     "text": [
      "UART device: /dev/tty.usbserial-14410\n",
      "Firmware version: V2.04.23101915\n",
      "Bluetooth: ON (MAC address: F8 38 08 8E BB CB)\n",
      "Multi tracking: ON\n",
      "Zone filtering: [0, 0, 0, 0, 0, 0, 0, 0, 0, 0, 0, 0, 0]\n"
     ]
    }
   ],
   "source": [
    "r.show_info()"
   ]
  },
  {
   "cell_type": "code",
   "execution_count": 184,
   "id": "e9b007d0-2959-4a3c-98e4-6a2d2cb2db50",
   "metadata": {},
   "outputs": [],
   "source": [
    "r.set_bluetooth_on(restart=True)\n",
    "r.set_multi_tracking()"
   ]
  },
  {
   "cell_type": "code",
   "execution_count": 185,
   "id": "9fb9bbba-fb63-477b-a6c6-3f3adc00c179",
   "metadata": {},
   "outputs": [
    {
     "name": "stdout",
     "output_type": "stream",
     "text": [
      "1.1) Failed to end configuration\n",
      "No header in response to cmd '00 FE'.\n",
      "1.2) Failed to end configuration\n",
      "No header in response to cmd '00 FE'.\n",
      "1.3) Failed to end configuration\n",
      "No header in response to cmd '00 FE'.\n",
      "1.4) Failed to end configuration\n",
      "No header in response to cmd '00 FE'.\n",
      "1) Failed to end configuration while executing cmd '00 C1'.\n",
      "UART device: /dev/tty.usbserial-14410\n",
      "Firmware version: V2.04.23101915\n",
      "Bluetooth: ON (MAC address: F8 38 08 8E BB CB)\n",
      "Multi tracking: ON\n",
      "Zone filtering: [0, 0, 0, 0, 0, 0, 0, 0, 0, 0, 0, 0, 0]\n"
     ]
    }
   ],
   "source": [
    "r.show_info()"
   ]
  },
  {
   "cell_type": "code",
   "execution_count": 186,
   "id": "306ff14a-d490-4709-a03f-afdee0e732e8",
   "metadata": {
    "scrolled": true
   },
   "outputs": [
    {
     "name": "stdout",
     "output_type": "stream",
     "text": [
      "0\n",
      "1\n",
      "2\n",
      "3\n",
      "4\n",
      "5\n",
      "6\n",
      "7\n",
      "8\n",
      "9\n",
      "10\n",
      "11\n",
      "12\n",
      "13\n",
      "14\n",
      "15\n",
      "16\n",
      "17\n",
      "18\n",
      "19\n",
      "20\n",
      "21\n",
      "22\n",
      "23\n",
      "24\n",
      "25\n",
      "26\n",
      "27\n",
      "28\n",
      "29\n",
      "30\n",
      "31\n",
      "32\n",
      "33\n",
      "34\n",
      "35\n",
      "36\n",
      "37\n",
      "38\n",
      "39\n",
      "40\n",
      "41\n",
      "42\n",
      "43\n",
      "44\n",
      "45\n",
      "46\n",
      "47\n",
      "48\n",
      "49\n",
      "50\n",
      "51\n",
      "52\n",
      "53\n",
      "54\n",
      "55\n",
      "56\n",
      "57\n",
      "1.1) Failed to start configuration\n",
      "No acknowledge in response to cmd '00 FF'.\n",
      "58\n",
      "59\n",
      "60\n",
      "61\n",
      "62\n",
      "63\n",
      "64\n",
      "65\n",
      "66\n",
      "67\n",
      "68\n",
      "69\n",
      "70\n",
      "71\n",
      "72\n",
      "73\n",
      "74\n",
      "75\n",
      "76\n",
      "77\n",
      "78\n",
      "79\n",
      "80\n",
      "81\n",
      "82\n",
      "83\n",
      "84\n",
      "85\n",
      "86\n",
      "87\n",
      "88\n",
      "89\n",
      "90\n",
      "91\n",
      "92\n",
      "93\n",
      "94\n",
      "95\n",
      "96\n",
      "97\n",
      "98\n",
      "99\n",
      "\n",
      "Firmware version: ['V2.04.23101915']\n",
      "MAC address: ['F8 38 08 8E BB CB']\n",
      "Tracking mode: [2]\n"
     ]
    }
   ],
   "source": [
    "r.test(100)"
   ]
  },
  {
   "cell_type": "code",
   "execution_count": 219,
   "id": "b1397877-7646-40b5-a698-4e23c4bdff08",
   "metadata": {},
   "outputs": [
    {
     "name": "stdout",
     "output_type": "stream",
     "text": [
      "939\n"
     ]
    }
   ],
   "source": [
    "print(r.in_waiting)"
   ]
  },
  {
   "cell_type": "code",
   "execution_count": 225,
   "id": "d5ab53a6-82e0-4412-be60-fcf044888a79",
   "metadata": {
    "scrolled": true
   },
   "outputs": [
    {
     "name": "stdout",
     "output_type": "stream",
     "text": [
      "930\n",
      " 1124  1307 |     0     0 |     0     0 | IN:   990 | sample:     1\n",
      " 1129  1308 |     0     0 |     0     0 | IN:   960 | sample:     2\n",
      " 1137  1307 |     0     0 |     0     0 | IN:   930 | sample:     3\n",
      " 1147  1305 |     0     0 |     0     0 | IN:   900 | sample:     4\n",
      " 1152  1303 |     0     0 |     0     0 | IN:  1003 | sample:     5\n",
      " 1155  1301 |     0     0 |     0     0 | IN:   973 | sample:     6\n",
      " 1158  1300 |     0     0 |     0     0 | IN:   943 | sample:     7\n",
      " 1162  1298 |     0     0 |     0     0 | IN:   913 | sample:     8\n",
      " 1168  1298 |     0     0 |     0     0 | IN:  1016 | sample:     9\n",
      " 1175  1298 |     0     0 |     0     0 | IN:   986 | sample:    10\n",
      " 1181  1299 |     0     0 |     0     0 | IN:   956 | sample:    11\n",
      " 1184  1299 |     0     0 |     0     0 | IN:   926 | sample:    12\n",
      " 1178  1305 |     0     0 |     0     0 | IN:   896 | sample:    13\n",
      " 1170  1312 |     0     0 |     0     0 | IN:   999 | sample:    14\n",
      " 1153  1318 |     0     0 |     0     0 | IN:   969 | sample:    15\n",
      " 1135  1323 |     0     0 |     0     0 | IN:   939 | sample:    16\n",
      " 1118  1328 |     0     0 |     0     0 | IN:   909 | sample:    17\n",
      " 1101  1333 |     0     0 |     0     0 | IN:  1012 | sample:    18\n",
      " 1085  1337 |     0     0 |     0     0 | IN:   982 | sample:    19\n",
      " 1070  1342 |     0     0 |     0     0 | IN:   952 | sample:    20\n",
      " 1055  1346 |     0     0 |     0     0 | IN:   922 | sample:    21\n",
      " 1045  1348 |     0     0 |     0     0 | IN:   892 | sample:    22\n",
      " 1038  1350 |     0     0 |     0     0 | IN:   995 | sample:    23\n",
      " 1031  1352 |     0     0 |     0     0 | IN:   965 | sample:    24\n",
      " 1025  1353 |     0     0 |     0     0 | IN:   935 | sample:    25\n",
      " 1018  1355 |     0     0 |     0     0 | IN:   905 | sample:    26\n",
      " 1012  1356 |     0     0 |     0     0 | IN:  1008 | sample:    27\n",
      " 1006  1358 |     0     0 |     0     0 | IN:   978 | sample:    28\n",
      " 1000  1359 |     0     0 |     0     0 | IN:   948 | sample:    29\n",
      "  995  1360 |     0     0 |     0     0 | IN:   918 | sample:    30\n",
      " 1004  1356 |     0     0 |     0     0 | IN:  1020 | sample:    31\n",
      " 1015  1355 |     0     0 |     0     0 | IN:   990 | sample:    32\n",
      " 1030  1353 |     0     0 |     0     0 | IN:   960 | sample:    33\n",
      " 1038  1350 |     0     0 |     0     0 | IN:   930 | sample:    34\n",
      " 1042  1347 |     0     0 |     0     0 | IN:   900 | sample:    35\n",
      " 1046  1344 |     0     0 |     0     0 | IN:  1000 | sample:    36\n",
      " 1050  1341 |     0     0 |     0     0 | IN:   970 | sample:    37\n",
      " 1054  1337 |     0     0 |     0     0 | IN:   940 | sample:    38\n",
      " 1058  1334 |     0     0 |     0     0 | IN:   910 | sample:    39\n",
      " 1062  1331 |     0     0 |     0     0 | IN:  1013 | sample:    40\n",
      " 1067  1330 |     0     0 |     0     0 | IN:   983 | sample:    41\n",
      " 1073  1329 |     0     0 |     0     0 | IN:   953 | sample:    42\n",
      " 1078  1328 |     0     0 |     0     0 | IN:   923 | sample:    43\n",
      " 1089  1325 |     0     0 |     0     0 | IN:   893 | sample:    44\n",
      " 1102  1320 |     0     0 |     0     0 | IN:   996 | sample:    45\n",
      " 1113  1316 |     0     0 |     0     0 | IN:   966 | sample:    46\n",
      " 1124  1310 |     0     0 |     0     0 | IN:   936 | sample:    47\n",
      " 1134  1303 |     0     0 |     0     0 | IN:   906 | sample:    48\n",
      " 1144  1297 |     0     0 |     0     0 | IN:  1009 | sample:    49\n",
      " 1148  1293 |     0     0 |     0     0 | IN:   979 | sample:    50\n",
      " 1150  1293 |     0     0 |     0     0 | IN:   949 | sample:    51\n"
     ]
    }
   ],
   "source": [
    "print(r.in_waiting)\n",
    "r.show_data(50)"
   ]
  },
  {
   "cell_type": "markdown",
   "id": "30da7ca2-bb5c-4d76-b53e-eac5e7dd2f1d",
   "metadata": {},
   "source": [
    "## Radar 2410C"
   ]
  },
  {
   "cell_type": "code",
   "execution_count": 226,
   "id": "5f64e376-2487-418e-a553-8cd1dcd0d370",
   "metadata": {},
   "outputs": [],
   "source": [
    "# ..."
   ]
  },
  {
   "cell_type": "markdown",
   "id": "1d623a83-03b4-4a0a-a82f-86faed07ab3d",
   "metadata": {},
   "source": [
    "## Radar 2461"
   ]
  },
  {
   "cell_type": "code",
   "execution_count": 227,
   "id": "bbb830c8-c4ad-4555-8ea7-9cfdbb3e4510",
   "metadata": {},
   "outputs": [],
   "source": [
    "# ..."
   ]
  },
  {
   "cell_type": "markdown",
   "id": "8ea3fc9a-610c-4bbd-a9c5-a2556c356637",
   "metadata": {},
   "source": [
    "## Radar data collector"
   ]
  },
  {
   "cell_type": "code",
   "execution_count": 228,
   "id": "bb260c5e-30d6-4699-aaa8-bf4bf307c0f3",
   "metadata": {},
   "outputs": [
    {
     "name": "stdout",
     "output_type": "stream",
     "text": [
      "Radar UP.\n"
     ]
    }
   ],
   "source": [
    "rdc = RadarDataCollector(uartdev)"
   ]
  },
  {
   "cell_type": "code",
   "execution_count": 229,
   "id": "ff4e35bf-c87c-46a8-8be5-8f2ee8c51dbb",
   "metadata": {},
   "outputs": [
    {
     "name": "stdout",
     "output_type": "stream",
     "text": [
      "1.1) Failed to start configuration\n",
      "No header in response to cmd '00 FF'.\n",
      "UART device: /dev/tty.usbserial-14410\n",
      "Firmware version: V2.04.23101915\n",
      "Bluetooth: ON (MAC address: F8 38 08 8E BB CB)\n",
      "Multi tracking: ON\n",
      "Zone filtering: [0, 0, 0, 0, 0, 0, 0, 0, 0, 0, 0, 0, 0]\n"
     ]
    }
   ],
   "source": [
    "rdc.radar.show_info()"
   ]
  },
  {
   "cell_type": "code",
   "execution_count": 230,
   "id": "87b8ec0b-3049-423c-9358-e772230af7ba",
   "metadata": {},
   "outputs": [
    {
     "data": {
      "text/plain": [
       "'/dev/tty.usbserial-14410'"
      ]
     },
     "execution_count": 230,
     "metadata": {},
     "output_type": "execute_result"
    }
   ],
   "source": [
    "rdc.uartdev"
   ]
  },
  {
   "cell_type": "code",
   "execution_count": 231,
   "id": "88edad11-af16-4a43-923e-46752b4a4054",
   "metadata": {},
   "outputs": [
    {
     "data": {
      "text/plain": [
       "True"
      ]
     },
     "execution_count": 231,
     "metadata": {},
     "output_type": "execute_result"
    }
   ],
   "source": [
    "rdc.default_bluetooth"
   ]
  },
  {
   "cell_type": "code",
   "execution_count": 232,
   "id": "d5f7eda5-4820-40ba-91be-0088dc6f093b",
   "metadata": {},
   "outputs": [
    {
     "data": {
      "text/plain": [
       "True"
      ]
     },
     "execution_count": 232,
     "metadata": {},
     "output_type": "execute_result"
    }
   ],
   "source": [
    "rdc.default_multi_tracking"
   ]
  },
  {
   "cell_type": "code",
   "execution_count": 233,
   "id": "d49bfda6-2df3-46cd-9269-843833940912",
   "metadata": {},
   "outputs": [
    {
     "data": {
      "text/plain": [
       "True"
      ]
     },
     "execution_count": 233,
     "metadata": {},
     "output_type": "execute_result"
    }
   ],
   "source": [
    "rdc.active"
   ]
  },
  {
   "cell_type": "code",
   "execution_count": 234,
   "id": "f3d956f3-a2a5-434a-850d-47e58a42bfd6",
   "metadata": {},
   "outputs": [
    {
     "data": {
      "text/plain": [
       "0"
      ]
     },
     "execution_count": 234,
     "metadata": {},
     "output_type": "execute_result"
    }
   ],
   "source": [
    "rdc.qsize"
   ]
  },
  {
   "cell_type": "code",
   "execution_count": 235,
   "id": "69b8c772-59b7-47d1-90e6-f64ed9ca905d",
   "metadata": {},
   "outputs": [
    {
     "data": {
      "text/plain": [
       "True"
      ]
     },
     "execution_count": 235,
     "metadata": {},
     "output_type": "execute_result"
    }
   ],
   "source": [
    "rdc.empty"
   ]
  },
  {
   "cell_type": "code",
   "execution_count": 236,
   "id": "afc1d515-0f90-4250-85bc-dbc9304d8b52",
   "metadata": {},
   "outputs": [],
   "source": [
    "rdc.start()"
   ]
  },
  {
   "cell_type": "code",
   "execution_count": 237,
   "id": "03422ef2-e121-408c-9ff4-3a3a284fc45f",
   "metadata": {},
   "outputs": [
    {
     "name": "stdout",
     "output_type": "stream",
     "text": [
      "113\n",
      "124\n",
      "135\n",
      "147\n",
      "158\n",
      "169\n",
      "180\n",
      "192\n",
      "203\n",
      "214\n"
     ]
    }
   ],
   "source": [
    "for _ in range(10):\n",
    "    print(rdc.qsize)\n",
    "    time.sleep(1)"
   ]
  },
  {
   "cell_type": "code",
   "execution_count": 238,
   "id": "8eeb90ae-9162-4b0d-92a6-82b0918dd508",
   "metadata": {},
   "outputs": [
    {
     "name": "stdout",
     "output_type": "stream",
     "text": [
      "Radar DOWN.\n"
     ]
    }
   ],
   "source": [
    "rdc.active = False"
   ]
  },
  {
   "cell_type": "code",
   "execution_count": 239,
   "id": "0cee6a1d-2cbf-4a0c-b8df-e06b81acd164",
   "metadata": {},
   "outputs": [
    {
     "name": "stdout",
     "output_type": "stream",
     "text": [
      "238\n",
      "238\n",
      "238\n",
      "238\n",
      "238\n",
      "238\n",
      "238\n",
      "238\n",
      "238\n",
      "238\n"
     ]
    }
   ],
   "source": [
    "for _ in range(10):\n",
    "    print(rdc.qsize)\n",
    "    time.sleep(1)"
   ]
  },
  {
   "cell_type": "code",
   "execution_count": null,
   "id": "6e8c6aae-1950-4e63-b3d0-85e3ba0cad1a",
   "metadata": {},
   "outputs": [],
   "source": []
  },
  {
   "cell_type": "code",
   "execution_count": null,
   "id": "5b0ed8f5-348b-4b50-aa34-92f68f72239d",
   "metadata": {},
   "outputs": [],
   "source": []
  },
  {
   "cell_type": "code",
   "execution_count": null,
   "id": "f51b4679-0dc6-46d3-b88b-d63f4eaec398",
   "metadata": {},
   "outputs": [],
   "source": []
  }
 ],
 "metadata": {
  "kernelspec": {
   "display_name": "Python 3 (ipykernel)",
   "language": "python",
   "name": "python3"
  },
  "language_info": {
   "codemirror_mode": {
    "name": "ipython",
    "version": 3
   },
   "file_extension": ".py",
   "mimetype": "text/x-python",
   "name": "python",
   "nbconvert_exporter": "python",
   "pygments_lexer": "ipython3",
   "version": "3.11.2"
  }
 },
 "nbformat": 4,
 "nbformat_minor": 5
}
