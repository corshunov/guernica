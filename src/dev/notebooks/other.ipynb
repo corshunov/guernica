{
 "cells": [
  {
   "cell_type": "code",
   "execution_count": 1,
   "id": "926e7206-4c28-4123-8217-fada44e297c8",
   "metadata": {},
   "outputs": [],
   "source": [
    "%load_ext autoreload\n",
    "%autoreload 2"
   ]
  },
  {
   "cell_type": "code",
   "execution_count": 2,
   "id": "a9e0c7a8-4067-4d18-ba4c-eb6f278401d4",
   "metadata": {},
   "outputs": [],
   "source": [
    "import time"
   ]
  },
  {
   "cell_type": "code",
   "execution_count": 3,
   "id": "e1e461e8-9dbf-467c-acc5-104c28b3bade",
   "metadata": {},
   "outputs": [],
   "source": [
    "from IPython.display import HTML"
   ]
  },
  {
   "cell_type": "code",
   "execution_count": 4,
   "id": "5e0f3b6b-fe62-4a7b-949d-9b28c76ede73",
   "metadata": {},
   "outputs": [],
   "source": [
    "from brightness_controller import BrightnessController\n",
    "from controller import Controller\n",
    "from sliding_average import SlidingAverage"
   ]
  },
  {
   "cell_type": "code",
   "execution_count": 5,
   "id": "68ffcba6-cd2f-42cd-b92e-1ea321c5ebc7",
   "metadata": {},
   "outputs": [],
   "source": [
    "#uartdev = \"/dev/ttyS0\"\n",
    "uartdev = \"/dev/tty.usbserial-14410\""
   ]
  },
  {
   "cell_type": "markdown",
   "id": "f2efa05c-bc2a-44ca-be54-bac4725feaff",
   "metadata": {},
   "source": [
    "## Sliding average"
   ]
  },
  {
   "cell_type": "code",
   "execution_count": 6,
   "id": "29b56997-0229-4264-b068-580d5926e41e",
   "metadata": {},
   "outputs": [
    {
     "name": "stdout",
     "output_type": "stream",
     "text": [
      " -30 |  -30    0    0    0 |  -30    0    0    0 |  -7.50  -7.50 | yes\n",
      "  85 |  -30   85    0    0 |  -30   85    0    0 |  13.75  13.75 | yes\n",
      "-100 |  -30   85 -100    0 |  -30   85 -100    0 | -11.25 -11.25 | yes\n",
      "  60 |  -30   85 -100   60 |  -30   85 -100   60 |   3.75   3.75 | yes\n",
      " -41 |   85 -100   60  -41 |  -41   85 -100   60 |   1.00   1.00 | yes\n",
      "  -7 | -100   60  -41   -7 |  -41   -7 -100   60 | -22.00 -22.00 | yes\n",
      "  39 |   60  -41   -7   39 |  -41   -7   39   60 |  12.75  12.75 | yes\n",
      " -65 |  -41   -7   39  -65 |  -41   -7   39  -65 | -18.50 -18.50 | yes\n",
      "  92 |   -7   39  -65   92 |   92   -7   39  -65 |  14.75  14.75 | yes\n",
      " -73 |   39  -65   92  -73 |   92  -73   39  -65 |  -1.75  -1.75 | yes\n",
      "  50 |  -65   92  -73   50 |   92  -73   50  -65 |   1.00   1.00 | yes\n",
      " -76 |   92  -73   50  -76 |   92  -73   50  -76 |  -1.75  -1.75 | yes\n"
     ]
    }
   ],
   "source": [
    "SlidingAverage.show_check(n=12, ws=4)"
   ]
  },
  {
   "cell_type": "code",
   "execution_count": 7,
   "id": "ace0a233-ba76-4e42-86e8-7603a6ec32da",
   "metadata": {},
   "outputs": [
    {
     "name": "stdout",
     "output_type": "stream",
     "text": [
      "0 | [0, 0, 0, 0] | 0.00\n",
      "1 | [0, 1, 0, 0] | 0.25\n",
      "2 | [0, 1, 2, 0] | 0.75\n",
      "3 | [0, 1, 2, 3] | 1.50\n",
      "4 | [4, 1, 2, 3] | 2.50\n",
      "5 | [4, 5, 2, 3] | 3.50\n",
      "6 | [4, 5, 6, 3] | 4.50\n",
      "7 | [4, 5, 6, 7] | 5.50\n",
      "8 | [8, 5, 6, 7] | 6.50\n",
      "9 | [8, 9, 6, 7] | 7.50\n"
     ]
    }
   ],
   "source": [
    "avg = SlidingAverage(4)\n",
    "for i in range(10):\n",
    "    avg.add(i)\n",
    "    print(f\"{i} | {avg.vals} | {avg.avg:.2f}\")"
   ]
  },
  {
   "cell_type": "markdown",
   "id": "754a6546-e039-4501-aebd-ab2799489f2c",
   "metadata": {},
   "source": [
    "## Camera"
   ]
  },
  {
   "cell_type": "code",
   "execution_count": 240,
   "id": "4114f2fc-f9ad-424e-9d96-6d083af059fe",
   "metadata": {},
   "outputs": [],
   "source": [
    "# ..."
   ]
  },
  {
   "cell_type": "markdown",
   "id": "53df639b-1ddc-4b2f-acd6-45060bf7a63c",
   "metadata": {},
   "source": [
    "## Direct brightness"
   ]
  },
  {
   "cell_type": "code",
   "execution_count": 241,
   "id": "a50f7e8b-832d-42d3-851d-b4048faacc7c",
   "metadata": {},
   "outputs": [],
   "source": [
    "i2c_num = 2\n",
    "br_ctl = BrightnessController(i2c_num)"
   ]
  },
  {
   "cell_type": "code",
   "execution_count": 242,
   "id": "40d1fd77-400d-4eb0-a1e8-4855709328cf",
   "metadata": {},
   "outputs": [
    {
     "ename": "FileNotFoundError",
     "evalue": "[Errno 2] No such file or directory: '/dev/i2c-2'",
     "output_type": "error",
     "traceback": [
      "\u001b[31m---------------------------------------------------------------------------\u001b[39m",
      "\u001b[31mFileNotFoundError\u001b[39m                         Traceback (most recent call last)",
      "\u001b[36mCell\u001b[39m\u001b[36m \u001b[39m\u001b[32mIn[242]\u001b[39m\u001b[32m, line 2\u001b[39m\n\u001b[32m      1\u001b[39m \u001b[38;5;28;01mfor\u001b[39;00m i \u001b[38;5;129;01min\u001b[39;00m \u001b[38;5;28mrange\u001b[39m(\u001b[32m0\u001b[39m, \u001b[32m101\u001b[39m):\n\u001b[32m----> \u001b[39m\u001b[32m2\u001b[39m     \u001b[43mbr_ctl\u001b[49m\u001b[43m.\u001b[49m\u001b[43mset\u001b[49m\u001b[43m(\u001b[49m\u001b[43mi\u001b[49m\u001b[43m)\u001b[49m\n\u001b[32m      3\u001b[39m     time.sleep(\u001b[32m0.01\u001b[39m)\n",
      "\u001b[36mFile \u001b[39m\u001b[32m~/dev/guernica/brightness_controller.py:23\u001b[39m, in \u001b[36mBrightnessController.set\u001b[39m\u001b[34m(self, value)\u001b[39m\n\u001b[32m     20\u001b[39m checksum = \u001b[38;5;28mself\u001b[39m._checksum(message)\n\u001b[32m     21\u001b[39m message.append(checksum)\n\u001b[32m---> \u001b[39m\u001b[32m23\u001b[39m \u001b[38;5;28;01mwith\u001b[39;00m \u001b[43mSMBus\u001b[49m\u001b[43m(\u001b[49m\u001b[38;5;28;43mself\u001b[39;49m\u001b[43m.\u001b[49m\u001b[43mbus_num\u001b[49m\u001b[43m)\u001b[49m \u001b[38;5;28;01mas\u001b[39;00m bus:\n\u001b[32m     24\u001b[39m     bus.write_i2c_block_data(\u001b[38;5;28mself\u001b[39m.ADDRESS, \u001b[38;5;28mself\u001b[39m.REGISTER, message)\n",
      "\u001b[36mFile \u001b[39m\u001b[32m~/dev/guernica/.venv/lib/python3.13/site-packages/smbus2/smbus2.py:280\u001b[39m, in \u001b[36mSMBus.__init__\u001b[39m\u001b[34m(self, bus, force)\u001b[39m\n\u001b[32m    278\u001b[39m \u001b[38;5;28mself\u001b[39m.funcs = I2cFunc(\u001b[32m0\u001b[39m)\n\u001b[32m    279\u001b[39m \u001b[38;5;28;01mif\u001b[39;00m bus \u001b[38;5;129;01mis\u001b[39;00m \u001b[38;5;129;01mnot\u001b[39;00m \u001b[38;5;28;01mNone\u001b[39;00m:\n\u001b[32m--> \u001b[39m\u001b[32m280\u001b[39m     \u001b[38;5;28;43mself\u001b[39;49m\u001b[43m.\u001b[49m\u001b[43mopen\u001b[49m\u001b[43m(\u001b[49m\u001b[43mbus\u001b[49m\u001b[43m)\u001b[49m\n\u001b[32m    281\u001b[39m \u001b[38;5;28mself\u001b[39m.address = \u001b[38;5;28;01mNone\u001b[39;00m\n\u001b[32m    282\u001b[39m \u001b[38;5;28mself\u001b[39m.force = force\n",
      "\u001b[36mFile \u001b[39m\u001b[32m~/dev/guernica/.venv/lib/python3.13/site-packages/smbus2/smbus2.py:310\u001b[39m, in \u001b[36mSMBus.open\u001b[39m\u001b[34m(self, bus)\u001b[39m\n\u001b[32m    307\u001b[39m \u001b[38;5;28;01melse\u001b[39;00m:\n\u001b[32m    308\u001b[39m     \u001b[38;5;28;01mraise\u001b[39;00m \u001b[38;5;167;01mTypeError\u001b[39;00m(\u001b[33m\"\u001b[39m\u001b[33mUnexpected type(bus)=\u001b[39m\u001b[38;5;132;01m{}\u001b[39;00m\u001b[33m\"\u001b[39m.format(\u001b[38;5;28mtype\u001b[39m(bus)))\n\u001b[32m--> \u001b[39m\u001b[32m310\u001b[39m \u001b[38;5;28mself\u001b[39m.fd = \u001b[43mos\u001b[49m\u001b[43m.\u001b[49m\u001b[43mopen\u001b[49m\u001b[43m(\u001b[49m\u001b[43mfilepath\u001b[49m\u001b[43m,\u001b[49m\u001b[43m \u001b[49m\u001b[43mos\u001b[49m\u001b[43m.\u001b[49m\u001b[43mO_RDWR\u001b[49m\u001b[43m)\u001b[49m\n\u001b[32m    311\u001b[39m \u001b[38;5;28mself\u001b[39m.funcs = \u001b[38;5;28mself\u001b[39m._get_funcs()\n",
      "\u001b[31mFileNotFoundError\u001b[39m: [Errno 2] No such file or directory: '/dev/i2c-2'"
     ]
    }
   ],
   "source": [
    "for i in range(0, 101):\n",
    "    br_ctl.set(i)\n",
    "    time.sleep(0.01)"
   ]
  },
  {
   "cell_type": "markdown",
   "id": "d340340b-82a7-4296-b0c8-571178e89286",
   "metadata": {},
   "source": [
    "## Controller"
   ]
  },
  {
   "cell_type": "code",
   "execution_count": null,
   "id": "e2c66cce-8306-4373-99f2-bdc1c94a9594",
   "metadata": {},
   "outputs": [],
   "source": [
    "ws = 1\n",
    "dmin = 1000\n",
    "dmax = 2500\n",
    "\n",
    "ctl = Controller(uartdev, ws, dmin, dmax, screen_bus=i2c_num)"
   ]
  },
  {
   "cell_type": "code",
   "execution_count": null,
   "id": "f14c2b58-6965-4233-96b7-3cc40c1fb0c1",
   "metadata": {},
   "outputs": [],
   "source": [
    "ctl.start()"
   ]
  },
  {
   "cell_type": "markdown",
   "id": "e759a135-79d2-4556-bf24-fa869e55d185",
   "metadata": {},
   "source": [
    "## Plotter"
   ]
  },
  {
   "cell_type": "code",
   "execution_count": null,
   "id": "38e90d1f-3717-4b0a-8628-9e377e91474b",
   "metadata": {},
   "outputs": [],
   "source": [
    "p = Plotter(uartdev, ws, dmin, dmax, verbose=True, xmin=-3000, xmax=3000, ymin=-4000)"
   ]
  },
  {
   "cell_type": "code",
   "execution_count": null,
   "id": "2ea69c3a-02aa-484a-bda2-cd5b349da05c",
   "metadata": {},
   "outputs": [],
   "source": [
    "ani = p.start()"
   ]
  },
  {
   "cell_type": "code",
   "execution_count": null,
   "id": "335c73bb-3f46-4634-a943-928e7f4d1c90",
   "metadata": {},
   "outputs": [],
   "source": [
    "HTML(ani.to_jshtml())"
   ]
  },
  {
   "cell_type": "code",
   "execution_count": null,
   "id": "6e8c6aae-1950-4e63-b3d0-85e3ba0cad1a",
   "metadata": {},
   "outputs": [],
   "source": []
  },
  {
   "cell_type": "code",
   "execution_count": null,
   "id": "5b0ed8f5-348b-4b50-aa34-92f68f72239d",
   "metadata": {},
   "outputs": [],
   "source": []
  },
  {
   "cell_type": "code",
   "execution_count": null,
   "id": "f51b4679-0dc6-46d3-b88b-d63f4eaec398",
   "metadata": {},
   "outputs": [],
   "source": []
  }
 ],
 "metadata": {
  "kernelspec": {
   "display_name": "Python 3 (ipykernel)",
   "language": "python",
   "name": "python3"
  },
  "language_info": {
   "codemirror_mode": {
    "name": "ipython",
    "version": 3
   },
   "file_extension": ".py",
   "mimetype": "text/x-python",
   "name": "python",
   "nbconvert_exporter": "python",
   "pygments_lexer": "ipython3",
   "version": "3.11.2"
  }
 },
 "nbformat": 4,
 "nbformat_minor": 5
}
